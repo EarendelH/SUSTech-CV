{
 "cells": [
  {
   "cell_type": "markdown",
   "metadata": {},
   "source": [
    "# [Scene Recognition with Bag-of-Words](https://www.cc.gatech.edu/~hays/compvision/proj4/)\n",
    "For this project, you will need to report performance for three\n",
    "combinations of features / classifiers. It is suggested you code them in\n",
    "this order, as well:\n",
    "1. Tiny image features and nearest neighbor classifier\n",
    "2. Bag of sift features and nearest neighbor classifier\n",
    "3. Bag of sift features and linear SVM classifier\n",
    "\n",
    "The starter code is initialized to 'placeholder' just so that the starter\n",
    "code does not crash when run unmodified and you can get a preview of how\n",
    "results are presented."
   ]
  },
  {
   "cell_type": "markdown",
   "metadata": {},
   "source": [
    "## Setup"
   ]
  },
  {
   "cell_type": "code",
   "execution_count": 1,
   "metadata": {},
   "outputs": [],
   "source": [
    "# Set up parameters, image paths and category list\n",
    "# %matplotlib notebook\n",
    "%load_ext autoreload\n",
    "%autoreload 2\n",
    "\n",
    "import cv2\n",
    "import numpy as np\n",
    "import os.path as osp\n",
    "import pickle\n",
    "from random import shuffle\n",
    "import matplotlib.pyplot as plt\n",
    "from utils import *\n",
    "import student_code_12310401 as sc\n",
    "\n",
    "\n",
    "# This is the list of categories / directories to use. The categories are\n",
    "# somewhat sorted by similarity so that the confusion matrix looks more\n",
    "# structured (indoor and then urban and then rural).\n",
    "categories = ['Kitchen', 'Store', 'Bedroom', 'LivingRoom', 'Office', 'Industrial', 'Suburb',\n",
    "              'InsideCity', 'TallBuilding', 'Street', 'Highway', 'OpenCountry', 'Coast',\n",
    "              'Mountain', 'Forest'];\n",
    "# This list of shortened category names is used later for visualization\n",
    "abbr_categories = ['Kit', 'Sto', 'Bed', 'Liv', 'Off', 'Ind', 'Sub',\n",
    "                   'Cty', 'Bld', 'St', 'HW', 'OC', 'Cst',\n",
    "                   'Mnt', 'For'];\n",
    "\n",
    "# Number of training examples per category to use. Max is 100. For\n",
    "# simplicity, we assume this is the number of test cases per category, as\n",
    "# well.\n",
    "num_train_per_cat = 100\n",
    "\n",
    "# This function returns lists containing the file path for each train\n",
    "# and test image, as well as lists with the label of each train and\n",
    "# test image. By default all four of these lists will have 1500 elements\n",
    "# where each element is a string.\n",
    "data_path = osp.join('..', 'data')\n",
    "train_image_paths, test_image_paths, train_labels, test_labels = get_image_paths(data_path,\n",
    "                                                                                 categories,\n",
    "                                                                                 num_train_per_cat);"
   ]
  },
  {
   "cell_type": "markdown",
   "metadata": {},
   "source": [
    "## Section 1: Tiny Image features with Nearest Neighbor classifier"
   ]
  },
  {
   "cell_type": "markdown",
   "metadata": {},
   "source": [
    "### Section 1a: Represent each image with the Tiny Image feature\n",
    "\n",
    "Each function to construct features should return an N x d numpy array, where N is the number of paths passed to the function and d is the dimensionality of each image representation. See the starter code for each function for more details."
   ]
  },
  {
   "cell_type": "code",
   "execution_count": 2,
   "metadata": {},
   "outputs": [
    {
     "name": "stdout",
     "output_type": "stream",
     "text": [
      "Using the TINY IMAGE representation for images\n",
      "Getting tiny images...\n",
      "Getting tiny images...\n"
     ]
    }
   ],
   "source": [
    "print('Using the TINY IMAGE representation for images')\n",
    "\n",
    "train_image_feats = sc.get_tiny_images(train_image_paths)\n",
    "test_image_feats = sc.get_tiny_images(test_image_paths)\n",
    "\n"
   ]
  },
  {
   "cell_type": "markdown",
   "metadata": {},
   "source": [
    "### Section 1b: Classify each test image by training and using the Nearest Neighbor classifier\n",
    "\n",
    "Each function to classify test features will return an N element list, where N is the number of test cases and each entry is a string indicating the predicted category for each test image. Each entry in 'predicted_categories' must be one of the 15 strings in 'categories', 'train_labels', and 'test_labels'. See the starter code for each function for more details."
   ]
  },
  {
   "cell_type": "code",
   "execution_count": 3,
   "metadata": {},
   "outputs": [
    {
     "name": "stdout",
     "output_type": "stream",
     "text": [
      "Using NEAREST NEIGHBOR classifier to predict test set categories\n",
      "Classifying using 1-Nearest Neighbor(s) with metric: euclidean...\n",
      "['Coast', 'Office', 'Highway', 'Suburb', 'Kitchen', 'Mountain', 'OpenCountry', 'TallBuilding', 'Forest', 'Forest', 'LivingRoom', 'Coast', 'Office', 'Mountain', 'Office', 'Industrial', 'Coast', 'OpenCountry', 'Mountain', 'TallBuilding', 'LivingRoom', 'Coast', 'Bedroom', 'Kitchen', 'Suburb', 'Suburb', 'TallBuilding', 'TallBuilding', 'Kitchen', 'InsideCity', 'Coast', 'OpenCountry', 'Coast', 'Mountain', 'Coast', 'Coast', 'LivingRoom', 'Highway', 'LivingRoom', 'Suburb', 'Kitchen', 'Bedroom', 'Bedroom', 'OpenCountry', 'Coast', 'TallBuilding', 'Office', 'Coast', 'Office', 'Highway', 'Office', 'LivingRoom', 'Mountain', 'Industrial', 'Highway', 'Coast', 'LivingRoom', 'Bedroom', 'Bedroom', 'Mountain', 'Kitchen', 'OpenCountry', 'Office', 'Mountain', 'Coast', 'LivingRoom', 'Mountain', 'Kitchen', 'Street', 'Suburb', 'Kitchen', 'Coast', 'InsideCity', 'Industrial', 'Coast', 'OpenCountry', 'Street', 'Office', 'Mountain', 'OpenCountry', 'Mountain', 'Mountain', 'Mountain', 'LivingRoom', 'Street', 'Suburb', 'Coast', 'OpenCountry', 'Coast', 'OpenCountry', 'TallBuilding', 'Kitchen', 'TallBuilding', 'Office', 'Bedroom', 'Office', 'Bedroom', 'TallBuilding', 'OpenCountry', 'Coast', 'Kitchen', 'Coast', 'TallBuilding', 'Street', 'Mountain', 'Bedroom', 'TallBuilding', 'Forest', 'InsideCity', 'TallBuilding', 'Suburb', 'Street', 'Mountain', 'Coast', 'Coast', 'Coast', 'InsideCity', 'Mountain', 'InsideCity', 'Store', 'LivingRoom', 'Suburb', 'InsideCity', 'Coast', 'Suburb', 'Street', 'OpenCountry', 'Mountain', 'Mountain', 'Coast', 'Coast', 'Coast', 'Street', 'Highway', 'Bedroom', 'Coast', 'Industrial', 'Forest', 'Mountain', 'Mountain', 'OpenCountry', 'Coast', 'TallBuilding', 'Suburb', 'Industrial', 'Coast', 'LivingRoom', 'Bedroom', 'TallBuilding', 'Street', 'TallBuilding', 'Coast', 'OpenCountry', 'Forest', 'Bedroom', 'Bedroom', 'Mountain', 'Bedroom', 'Kitchen', 'OpenCountry', 'Coast', 'Bedroom', 'Office', 'Mountain', 'Office', 'Bedroom', 'Industrial', 'InsideCity', 'Coast', 'Bedroom', 'Mountain', 'OpenCountry', 'OpenCountry', 'Street', 'Street', 'Store', 'Coast', 'Coast', 'Forest', 'LivingRoom', 'TallBuilding', 'Coast', 'Coast', 'TallBuilding', 'Industrial', 'Mountain', 'Suburb', 'InsideCity', 'Street', 'LivingRoom', 'Suburb', 'Coast', 'Street', 'OpenCountry', 'Forest', 'Coast', 'Office', 'Coast', 'Bedroom', 'OpenCountry', 'Highway', 'Office', 'Industrial', 'TallBuilding', 'Street', 'Kitchen', 'LivingRoom', 'Forest', 'Bedroom', 'Coast', 'Coast', 'Coast', 'Office', 'Highway', 'Highway', 'Office', 'Highway', 'Bedroom', 'Coast', 'Industrial', 'Bedroom', 'Mountain', 'Coast', 'OpenCountry', 'Mountain', 'TallBuilding', 'Highway', 'Coast', 'Forest', 'Street', 'Coast', 'InsideCity', 'Bedroom', 'Industrial', 'Office', 'Kitchen', 'Coast', 'Street', 'Highway', 'OpenCountry', 'Mountain', 'Industrial', 'Coast', 'Coast', 'Coast', 'Highway', 'Bedroom', 'Bedroom', 'Kitchen', 'Highway', 'Bedroom', 'Coast', 'Highway', 'Suburb', 'Industrial', 'Mountain', 'Bedroom', 'Industrial', 'TallBuilding', 'Highway', 'LivingRoom', 'LivingRoom', 'OpenCountry', 'TallBuilding', 'OpenCountry', 'Suburb', 'Forest', 'Coast', 'Coast', 'InsideCity', 'Coast', 'TallBuilding', 'Bedroom', 'Coast', 'Office', 'Bedroom', 'Bedroom', 'Bedroom', 'Bedroom', 'Street', 'Suburb', 'Bedroom', 'Office', 'OpenCountry', 'Highway', 'Industrial', 'Coast', 'Office', 'OpenCountry', 'Highway', 'Street', 'Kitchen', 'LivingRoom', 'Bedroom', 'LivingRoom', 'Street', 'Highway', 'Store', 'Coast', 'Bedroom', 'Highway', 'LivingRoom', 'Coast', 'TallBuilding', 'Highway', 'Office', 'Suburb', 'LivingRoom', 'LivingRoom', 'Forest', 'LivingRoom', 'Bedroom', 'Highway', 'Forest', 'Street', 'OpenCountry', 'Industrial', 'Coast', 'Coast', 'LivingRoom', 'OpenCountry', 'Suburb', 'Highway', 'Office', 'Coast', 'TallBuilding', 'Suburb', 'Coast', 'Forest', 'Kitchen', 'OpenCountry', 'Street', 'OpenCountry', 'Forest', 'Street', 'Coast', 'Kitchen', 'Street', 'Coast', 'Bedroom', 'Coast', 'Office', 'OpenCountry', 'LivingRoom', 'InsideCity', 'Bedroom', 'Coast', 'Coast', 'LivingRoom', 'LivingRoom', 'TallBuilding', 'Bedroom', 'Coast', 'Industrial', 'Office', 'Highway', 'Coast', 'Coast', 'Bedroom', 'OpenCountry', 'LivingRoom', 'Coast', 'Street', 'Highway', 'Highway', 'Highway', 'LivingRoom', 'LivingRoom', 'TallBuilding', 'OpenCountry', 'LivingRoom', 'Industrial', 'Suburb', 'Coast', 'Highway', 'Office', 'Industrial', 'Forest', 'Mountain', 'Highway', 'Highway', 'Highway', 'Street', 'Office', 'InsideCity', 'Coast', 'Bedroom', 'Coast', 'Suburb', 'Store', 'InsideCity', 'Coast', 'Highway', 'Bedroom', 'TallBuilding', 'Bedroom', 'Coast', 'TallBuilding', 'LivingRoom', 'Coast', 'LivingRoom', 'Mountain', 'Coast', 'OpenCountry', 'Office', 'Bedroom', 'TallBuilding', 'Bedroom', 'Bedroom', 'Bedroom', 'OpenCountry', 'TallBuilding', 'TallBuilding', 'Forest', 'Industrial', 'Coast', 'Highway', 'Industrial', 'Office', 'LivingRoom', 'Highway', 'TallBuilding', 'Mountain', 'Industrial', 'OpenCountry', 'Industrial', 'Coast', 'Bedroom', 'LivingRoom', 'Office', 'Highway', 'Office', 'Industrial', 'Office', 'Coast', 'Highway', 'Coast', 'Coast', 'Highway', 'Industrial', 'Bedroom', 'Coast', 'Coast', 'Kitchen', 'Street', 'Coast', 'Office', 'Highway', 'LivingRoom', 'Bedroom', 'Office', 'Highway', 'Suburb', 'Suburb', 'Bedroom', 'Office', 'Bedroom', 'Coast', 'Bedroom', 'Forest', 'Highway', 'Bedroom', 'Bedroom', 'OpenCountry', 'Suburb', 'Bedroom', 'OpenCountry', 'OpenCountry', 'Forest', 'Street', 'Office', 'Coast', 'Highway', 'Bedroom', 'Coast', 'Office', 'Industrial', 'Highway', 'InsideCity', 'Office', 'Office', 'Bedroom', 'Industrial', 'TallBuilding', 'Coast', 'OpenCountry', 'Coast', 'InsideCity', 'Kitchen', 'TallBuilding', 'Kitchen', 'Coast', 'Office', 'Office', 'Office', 'Highway', 'LivingRoom', 'Highway', 'Bedroom', 'Industrial', 'OpenCountry', 'TallBuilding', 'Industrial', 'Suburb', 'Highway', 'Highway', 'TallBuilding', 'OpenCountry', 'Coast', 'Coast', 'InsideCity', 'Highway', 'Forest', 'Coast', 'Industrial', 'TallBuilding', 'TallBuilding', 'Highway', 'Industrial', 'TallBuilding', 'Industrial', 'Kitchen', 'Highway', 'Mountain', 'Highway', 'OpenCountry', 'Mountain', 'OpenCountry', 'OpenCountry', 'Coast', 'Coast', 'Street', 'OpenCountry', 'Bedroom', 'Industrial', 'Street', 'Coast', 'Bedroom', 'Highway', 'Highway', 'Suburb', 'Highway', 'Industrial', 'Forest', 'OpenCountry', 'Coast', 'Forest', 'TallBuilding', 'Coast', 'Coast', 'Suburb', 'TallBuilding', 'Highway', 'Coast', 'OpenCountry', 'Office', 'Coast', 'OpenCountry', 'Coast', 'Coast', 'Coast', 'Coast', 'Highway', 'Mountain', 'Store', 'Suburb', 'Highway', 'Highway', 'OpenCountry', 'Street', 'OpenCountry', 'Mountain', 'Suburb', 'Mountain', 'Highway', 'Bedroom', 'Bedroom', 'Industrial', 'TallBuilding', 'Suburb', 'Industrial', 'Industrial', 'Bedroom', 'Highway', 'Kitchen', 'OpenCountry', 'Industrial', 'Coast', 'Coast', 'TallBuilding', 'Store', 'Coast', 'Highway', 'OpenCountry', 'TallBuilding', 'Highway', 'Coast', 'InsideCity', 'Highway', 'Highway', 'InsideCity', 'Suburb', 'Highway', 'Coast', 'InsideCity', 'Highway', 'OpenCountry', 'Highway', 'Highway', 'OpenCountry', 'Street', 'Kitchen', 'Coast', 'Industrial', 'Industrial', 'Highway', 'Suburb', 'Suburb', 'Suburb', 'Mountain', 'Suburb', 'Suburb', 'Suburb', 'Suburb', 'Highway', 'Suburb', 'Street', 'OpenCountry', 'Suburb', 'InsideCity', 'Street', 'Street', 'Street', 'OpenCountry', 'TallBuilding', 'Street', 'OpenCountry', 'Street', 'Suburb', 'Store', 'Street', 'Street', 'Coast', 'Suburb', 'OpenCountry', 'Coast', 'Suburb', 'Suburb', 'Suburb', 'Industrial', 'Street', 'Suburb', 'Coast', 'Street', 'Suburb', 'Suburb', 'Coast', 'Coast', 'Mountain', 'Coast', 'Highway', 'Suburb', 'Suburb', 'Street', 'Coast', 'Suburb', 'Suburb', 'Suburb', 'Suburb', 'Suburb', 'InsideCity', 'Industrial', 'Suburb', 'Suburb', 'Street', 'LivingRoom', 'Industrial', 'Mountain', 'Highway', 'Mountain', 'OpenCountry', 'Suburb', 'Highway', 'OpenCountry', 'Suburb', 'Bedroom', 'Industrial', 'Street', 'Suburb', 'OpenCountry', 'Suburb', 'Highway', 'Suburb', 'Suburb', 'Forest', 'Highway', 'Highway', 'OpenCountry', 'Suburb', 'Office', 'Street', 'Highway', 'TallBuilding', 'Highway', 'OpenCountry', 'Mountain', 'OpenCountry', 'Coast', 'Forest', 'Store', 'Street', 'Forest', 'LivingRoom', 'Street', 'Forest', 'InsideCity', 'OpenCountry', 'Suburb', 'Highway', 'Office', 'Coast', 'Mountain', 'Coast', 'Kitchen', 'Industrial', 'OpenCountry', 'Coast', 'Suburb', 'Street', 'OpenCountry', 'OpenCountry', 'Forest', 'OpenCountry', 'TallBuilding', 'Forest', 'Highway', 'TallBuilding', 'Industrial', 'Coast', 'OpenCountry', 'Industrial', 'TallBuilding', 'Industrial', 'OpenCountry', 'Coast', 'Mountain', 'Office', 'Highway', 'Industrial', 'Coast', 'Office', 'OpenCountry', 'Bedroom', 'OpenCountry', 'OpenCountry', 'Suburb', 'Office', 'Suburb', 'OpenCountry', 'OpenCountry', 'OpenCountry', 'Office', 'OpenCountry', 'Industrial', 'Coast', 'OpenCountry', 'Street', 'InsideCity', 'Coast', 'Highway', 'Forest', 'OpenCountry', 'Bedroom', 'Industrial', 'Industrial', 'Highway', 'OpenCountry', 'Suburb', 'Highway', 'Bedroom', 'Mountain', 'Coast', 'Coast', 'Suburb', 'Coast', 'TallBuilding', 'Highway', 'Coast', 'Highway', 'OpenCountry', 'Coast', 'InsideCity', 'Bedroom', 'Coast', 'InsideCity', 'Mountain', 'Kitchen', 'Bedroom', 'Coast', 'Coast', 'LivingRoom', 'InsideCity', 'Bedroom', 'Bedroom', 'Office', 'OpenCountry', 'Forest', 'TallBuilding', 'Bedroom', 'TallBuilding', 'Street', 'OpenCountry', 'Office', 'TallBuilding', 'Kitchen', 'Bedroom', 'Mountain', 'Kitchen', 'Industrial', 'Coast', 'Coast', 'Coast', 'LivingRoom', 'Coast', 'Coast', 'Coast', 'Industrial', 'Bedroom', 'Coast', 'TallBuilding', 'Industrial', 'Industrial', 'Mountain', 'Industrial', 'LivingRoom', 'Bedroom', 'Mountain', 'TallBuilding', 'Mountain', 'Industrial', 'Coast', 'Kitchen', 'Industrial', 'InsideCity', 'TallBuilding', 'Coast', 'Kitchen', 'TallBuilding', 'Mountain', 'OpenCountry', 'Coast', 'TallBuilding', 'Street', 'OpenCountry', 'Highway', 'Highway', 'TallBuilding', 'TallBuilding', 'TallBuilding', 'Industrial', 'Mountain', 'Bedroom', 'Coast', 'OpenCountry', 'Industrial', 'LivingRoom', 'TallBuilding', 'Office', 'Bedroom', 'TallBuilding', 'TallBuilding', 'Highway', 'Industrial', 'LivingRoom', 'Coast', 'Mountain', 'Bedroom', 'Industrial', 'Office', 'Highway', 'Street', 'TallBuilding', 'Industrial', 'Mountain', 'LivingRoom', 'Kitchen', 'Kitchen', 'TallBuilding', 'LivingRoom', 'Coast', 'Kitchen', 'InsideCity', 'TallBuilding', 'OpenCountry', 'Highway', 'Industrial', 'Industrial', 'Coast', 'Office', 'TallBuilding', 'Coast', 'Street', 'Street', 'Street', 'Industrial', 'Street', 'Street', 'Street', 'Street', 'Mountain', 'Street', 'Street', 'Street', 'OpenCountry', 'Industrial', 'Street', 'Suburb', 'Street', 'Street', 'Street', 'Street', 'Industrial', 'Street', 'InsideCity', 'InsideCity', 'Street', 'Street', 'Bedroom', 'Highway', 'Coast', 'Street', 'Street', 'Street', 'OpenCountry', 'Coast', 'Street', 'Suburb', 'Industrial', 'Coast', 'Street', 'Bedroom', 'Street', 'Street', 'Street', 'Street', 'Coast', 'Mountain', 'Mountain', 'Industrial', 'Suburb', 'LivingRoom', 'OpenCountry', 'Suburb', 'OpenCountry', 'Kitchen', 'Industrial', 'Street', 'Street', 'Street', 'LivingRoom', 'Street', 'Office', 'Street', 'Suburb', 'Street', 'Office', 'InsideCity', 'Street', 'Suburb', 'Street', 'Street', 'Bedroom', 'OpenCountry', 'OpenCountry', 'Office', 'Street', 'Street', 'Highway', 'Street', 'Street', 'Street', 'Street', 'Industrial', 'Street', 'Suburb', 'OpenCountry', 'TallBuilding', 'Street', 'Street', 'Street', 'Bedroom', 'Street', 'Street', 'Coast', 'Street', 'Street', 'Street', 'OpenCountry', 'Industrial', 'Street', 'Highway', 'InsideCity', 'Highway', 'Coast', 'OpenCountry', 'OpenCountry', 'InsideCity', 'Highway', 'Highway', 'Bedroom', 'Coast', 'Coast', 'Street', 'Highway', 'Coast', 'Highway', 'Coast', 'Highway', 'OpenCountry', 'OpenCountry', 'Coast', 'Highway', 'Highway', 'Highway', 'Highway', 'Highway', 'Highway', 'InsideCity', 'InsideCity', 'OpenCountry', 'Highway', 'Highway', 'Highway', 'Highway', 'OpenCountry', 'Mountain', 'Highway', 'Highway', 'Highway', 'Highway', 'Coast', 'Highway', 'Highway', 'Coast', 'Coast', 'Highway', 'InsideCity', 'OpenCountry', 'Kitchen', 'Suburb', 'Highway', 'Highway', 'Highway', 'Highway', 'Coast', 'Mountain', 'Coast', 'Mountain', 'Highway', 'Highway', 'Highway', 'OpenCountry', 'Coast', 'Coast', 'Highway', 'OpenCountry', 'Coast', 'Highway', 'Highway', 'Highway', 'Highway', 'Coast', 'Highway', 'OpenCountry', 'InsideCity', 'OpenCountry', 'Coast', 'Highway', 'Highway', 'Highway', 'Coast', 'Highway', 'Highway', 'OpenCountry', 'Highway', 'OpenCountry', 'Highway', 'OpenCountry', 'Highway', 'Highway', 'Highway', 'Highway', 'Industrial', 'Coast', 'OpenCountry', 'Highway', 'OpenCountry', 'OpenCountry', 'Coast', 'Suburb', 'Coast', 'OpenCountry', 'Suburb', 'Coast', 'OpenCountry', 'OpenCountry', 'Coast', 'Office', 'OpenCountry', 'OpenCountry', 'Coast', 'Coast', 'Highway', 'Highway', 'OpenCountry', 'OpenCountry', 'Coast', 'OpenCountry', 'Highway', 'Highway', 'OpenCountry', 'Coast', 'Street', 'Highway', 'Highway', 'Coast', 'Highway', 'Highway', 'Coast', 'Coast', 'Mountain', 'OpenCountry', 'Office', 'TallBuilding', 'OpenCountry', 'Coast', 'Industrial', 'Mountain', 'Coast', 'Coast', 'Bedroom', 'Coast', 'Coast', 'Coast', 'Suburb', 'OpenCountry', 'OpenCountry', 'OpenCountry', 'OpenCountry', 'Highway', 'OpenCountry', 'Street', 'OpenCountry', 'OpenCountry', 'Coast', 'OpenCountry', 'OpenCountry', 'Coast', 'Coast', 'Coast', 'Mountain', 'Highway', 'OpenCountry', 'InsideCity', 'OpenCountry', 'OpenCountry', 'OpenCountry', 'Coast', 'Coast', 'Highway', 'OpenCountry', 'Coast', 'Coast', 'OpenCountry', 'OpenCountry', 'Mountain', 'OpenCountry', 'Coast', 'Coast', 'Coast', 'OpenCountry', 'OpenCountry', 'OpenCountry', 'Coast', 'Suburb', 'OpenCountry', 'InsideCity', 'OpenCountry', 'LivingRoom', 'Coast', 'OpenCountry', 'OpenCountry', 'Coast', 'Highway', 'InsideCity', 'Highway', 'Bedroom', 'OpenCountry', 'OpenCountry', 'OpenCountry', 'Coast', 'Highway', 'Coast', 'Office', 'OpenCountry', 'Mountain', 'Highway', 'Mountain', 'Coast', 'OpenCountry', 'OpenCountry', 'Highway', 'Coast', 'InsideCity', 'Coast', 'Coast', 'OpenCountry', 'Coast', 'OpenCountry', 'Bedroom', 'Bedroom', 'Coast', 'OpenCountry', 'Coast', 'Coast', 'Coast', 'OpenCountry', 'Coast', 'Coast', 'OpenCountry', 'Office', 'Coast', 'Coast', 'Coast', 'Street', 'OpenCountry', 'Coast', 'OpenCountry', 'Suburb', 'OpenCountry', 'OpenCountry', 'Coast', 'Coast', 'InsideCity', 'Mountain', 'Coast', 'Highway', 'Coast', 'OpenCountry', 'OpenCountry', 'Coast', 'Coast', 'Mountain', 'Mountain', 'Office', 'Coast', 'Forest', 'Highway', 'OpenCountry', 'Coast', 'Bedroom', 'Highway', 'Mountain', 'OpenCountry', 'Coast', 'Coast', 'Coast', 'OpenCountry', 'Coast', 'Coast', 'Coast', 'Coast', 'OpenCountry', 'Highway', 'Coast', 'Bedroom', 'Highway', 'Mountain', 'Coast', 'Forest', 'Coast', 'Coast', 'Highway', 'Highway', 'Highway', 'Highway', 'Coast', 'Coast', 'OpenCountry', 'OpenCountry', 'Highway', 'OpenCountry', 'Coast', 'Coast', 'OpenCountry', 'Coast', 'Coast', 'Coast', 'OpenCountry', 'Highway', 'Industrial', 'OpenCountry', 'OpenCountry', 'Bedroom', 'Store', 'Industrial', 'Mountain', 'Coast', 'OpenCountry', 'Bedroom', 'InsideCity', 'Highway', 'Coast', 'Industrial', 'Coast', 'Coast', 'Mountain', 'Street', 'Coast', 'Street', 'TallBuilding', 'Mountain', 'Coast', 'Office', 'Mountain', 'Mountain', 'Coast', 'OpenCountry', 'Mountain', 'Highway', 'Highway', 'Highway', 'Forest', 'OpenCountry', 'Mountain', 'OpenCountry', 'Coast', 'InsideCity', 'Mountain', 'Kitchen', 'OpenCountry', 'Coast', 'Highway', 'OpenCountry', 'Highway', 'Highway', 'OpenCountry', 'OpenCountry', 'Forest', 'Highway', 'Mountain', 'Mountain', 'Highway', 'OpenCountry', 'LivingRoom', 'Industrial', 'OpenCountry', 'Coast', 'Suburb', 'Highway', 'Highway', 'Mountain', 'Coast', 'Highway', 'Highway', 'Street', 'Street', 'Office', 'Coast', 'Coast', 'OpenCountry', 'Forest', 'InsideCity', 'Coast', 'OpenCountry', 'LivingRoom', 'Bedroom', 'Coast', 'Coast', 'Mountain', 'Mountain', 'Office', 'Forest', 'Coast', 'OpenCountry', 'OpenCountry', 'Coast', 'Highway', 'TallBuilding', 'Highway', 'Highway', 'Highway', 'Coast', 'Coast', 'Highway', 'Highway', 'Suburb', 'Coast', 'Highway', 'OpenCountry', 'Street', 'LivingRoom', 'Office', 'Coast', 'OpenCountry', 'Coast', 'Coast', 'Industrial', 'Forest', 'Suburb', 'Coast', 'Mountain', 'InsideCity', 'OpenCountry', 'Bedroom', 'LivingRoom', 'Mountain', 'Highway', 'Forest', 'Kitchen', 'Industrial', 'TallBuilding', 'Coast', 'Highway', 'InsideCity', 'LivingRoom', 'Mountain', 'Mountain', 'InsideCity', 'Suburb', 'Street', 'InsideCity', 'Coast', 'Suburb', 'Coast', 'Street', 'OpenCountry', 'Forest', 'Street', 'Coast', 'Coast', 'OpenCountry', 'Coast', 'OpenCountry', 'Highway', 'Mountain', 'Street', 'OpenCountry', 'TallBuilding', 'Forest', 'Coast', 'Coast', 'LivingRoom', 'Coast', 'Coast', 'Forest', 'Street', 'OpenCountry', 'Mountain', 'Coast', 'Coast', 'OpenCountry', 'Bedroom', 'Suburb', 'Kitchen', 'Coast', 'Coast', 'Forest', 'Bedroom', 'Industrial', 'Coast', 'Forest', 'Bedroom', 'Kitchen', 'Coast', 'LivingRoom', 'Coast', 'Bedroom', 'Coast', 'Mountain', 'Suburb', 'Coast', 'Office', 'Highway', 'InsideCity', 'Suburb', 'Bedroom', 'Store', 'Mountain', 'OpenCountry', 'Industrial', 'Coast', 'LivingRoom', 'Kitchen', 'TallBuilding', 'OpenCountry', 'Mountain', 'Mountain', 'Highway', 'Forest']\n"
     ]
    }
   ],
   "source": [
    "print('Using NEAREST NEIGHBOR classifier to predict test set categories')\n",
    "\n",
    "predicted_categories = sc.nearest_neighbor_classify(train_image_feats, train_labels, test_image_feats)\n",
    "\n",
    "print(predicted_categories)"
   ]
  },
  {
   "cell_type": "markdown",
   "metadata": {},
   "source": [
    "### Section 1c: Build a confusion matrix and score the recognition system"
   ]
  },
  {
   "cell_type": "markdown",
   "metadata": {},
   "source": [
    "(You do not need to code anything in this section.)\n",
    "\n",
    "If we wanted to evaluate our recognition method properly we would train\n",
    "and test on many random splits of the data. You are not required to do so\n",
    "for this project.\n",
    "\n",
    "This function will create a confusion matrix and various image\n",
    "thumbnails each time it is called. View the confusion matrix to help interpret\n",
    "your classifier performance. Where is it making mistakes? Are the\n",
    "confusions reasonable?\n",
    "\n",
    "Interpreting your performance with 100 training examples per category:\n",
    "- accuracy  =   0 -> Your code is broken (probably not the classifier's fault! A classifier would have to be amazing to perform this badly).\n",
    "- accuracy ~= .07 -> Your performance is chance. Something is broken or you ran the starter code unchanged.\n",
    "- accuracy ~= .20 -> Rough performance with tiny images and nearest neighbor classifier. Performance goes up a few percentage points with K-NN instead of 1-NN.\n",
    "- accuracy ~= .20 -> Rough performance with tiny images and linear SVM classifier. The linear classifiers will have a lot of trouble trying to separate the classes and may be unstable (e.g. everything classified to one category)\n",
    "- accuracy ~= .50 -> Rough performance with bag of SIFT and nearest neighbor classifier. Can reach .60 with K-NN and different distance metrics.\n",
    "- accuracy ~= .60 -> You've gotten things roughly correct with bag of SIFT and a linear SVM classifier.\n",
    "- accuracy >= .70 -> You've also tuned your parameters well. E.g. number of clusters, SVM regularization, number of patches sampled when building vocabulary, size and step for dense SIFT features.\n",
    "- accuracy >= .80 -> You've added in spatial information somehow or you've added additional, complementary image features. This represents state of the art in Lazebnik et al 2006.\n",
    "- accuracy >= .85 -> You've done extremely well. This is the state of the art in the 2010 SUN database paper from fusing many  features. Don't trust this number unless you actually measure many random splits.\n",
    "- accuracy >= .90 -> You used modern deep features trained on much larger image databases.\n",
    "- accuracy >= .96 -> You can beat a human at this task. This isn't a realistic number. Some accuracy calculation is broken or your classifier is cheating and seeing the test labels."
   ]
  },
  {
   "cell_type": "code",
   "execution_count": 4,
   "metadata": {},
   "outputs": [
    {
     "data": {
      "image/png": "[encoded data removed]",
      "text/plain": [
       "<Figure size 640x480 with 1 Axes>"
      ]
     },
     "metadata": {},
     "output_type": "display_data"
    }
   ],
   "source": [
    "show_results(train_image_paths, test_image_paths, train_labels, test_labels, categories, abbr_categories,\n",
    "             predicted_categories,figname=f'1-NN Classifier with Tiny Image Features')"
   ]
  },
  {
   "cell_type": "markdown",
   "metadata": {},
   "source": [
    "## Section 2: Bag of SIFT features with Nearest Neighbor classifier"
   ]
  },
  {
   "cell_type": "markdown",
   "metadata": {},
   "source": [
    "### Section 2a: Represent each image with the Bag of SIFT feature\n",
    "\n",
    "To create a new vocabulary, make sure `vocab_filename` is different than the old vocabulary, or delete the old one."
   ]
  },
  {
   "cell_type": "code",
   "execution_count": 5,
   "metadata": {},
   "outputs": [
    {
     "name": "stdout",
     "output_type": "stream",
     "text": [
      "Using the BAG-OF-SIFT representation for images\n",
      "Computing the visual word vocabulary of size 200\n",
      "Loading vocabulary from vocab_200.pkl...\n",
      "Getting Bags of SIFTs (SIFT step: 5, fast: True, vocab size: 200)...\n",
      "BoS feature extraction took 39.97 seconds. Features shape: (1500, 200)\n",
      "Loading vocabulary from vocab_200.pkl...\n",
      "Getting Bags of SIFTs (SIFT step: 5, fast: True, vocab size: 200)...\n",
      "BoS feature extraction took 40.42 seconds. Features shape: (1500, 200)\n"
     ]
    }
   ],
   "source": [
    "print('Using the BAG-OF-SIFT representation for images')\n",
    "\n",
    "vocab_size = 200  # Larger values will work better (to a point) but be slower to compute\n",
    "print('Computing the visual word vocabulary of size %d' % vocab_size)\n",
    "vocab_filename = f'vocab_{vocab_size}.pkl'\n",
    "if not osp.isfile(vocab_filename):\n",
    "    # Construct the vocabulary\n",
    "    print('No existing visual word vocabulary found. Computing one from training images')\n",
    "    vocab = sc.build_vocabulary(train_image_paths, vocab_size)\n",
    "    with open(vocab_filename, 'wb') as f:\n",
    "        pickle.dump(vocab, f)\n",
    "        print('{:s} saved'.format(vocab_filename))\n",
    "\n",
    "train_image_feats = sc.get_bags_of_sifts(train_image_paths, vocab_filename)\n",
    "test_image_feats = sc.get_bags_of_sifts(test_image_paths, vocab_filename)"
   ]
  },
  {
   "cell_type": "markdown",
   "metadata": {},
   "source": [
    "### Section 2b: Classify each test image by training and using the Nearest Neighbor classifier"
   ]
  },
  {
   "cell_type": "code",
   "execution_count": 6,
   "metadata": {},
   "outputs": [
    {
     "name": "stdout",
     "output_type": "stream",
     "text": [
      "Using NEAREST NEIGHBOR classifier to predict test set categories\n",
      "Classifying using 1-Nearest Neighbor(s) with metric: euclidean...\n"
     ]
    }
   ],
   "source": [
    "print('Using NEAREST NEIGHBOR classifier to predict test set categories')\n",
    "predicted_categories = sc.nearest_neighbor_classify(train_image_feats, train_labels, test_image_feats)"
   ]
  },
  {
   "cell_type": "markdown",
   "metadata": {},
   "source": [
    "### Section 2c: Build a confusion matrix and score the recognition system"
   ]
  },
  {
   "cell_type": "code",
   "execution_count": 7,
   "metadata": {},
   "outputs": [
    {
     "data": {
      "image/png": "[encoded data removed]",
      "text/plain": [
       "<Figure size 640x480 with 1 Axes>"
      ]
     },
     "metadata": {},
     "output_type": "display_data"
    }
   ],
   "source": [
    "figname = f'{vocab_filename} + 1NN.png'\n",
    "show_results(train_image_paths, test_image_paths, train_labels, test_labels, categories, abbr_categories,\n",
    "             predicted_categories,figname=figname)"
   ]
  },
  {
   "cell_type": "markdown",
   "metadata": {},
   "source": [
    "## Section 3: Bag of SIFT features and SVM classifier\n",
    "We will reuse the bag of SIFT features from Section 2a.\n",
    "\n",
    "The difference is that this time we will classify them with a support vector machine (SVM)."
   ]
  },
  {
   "cell_type": "markdown",
   "metadata": {},
   "source": [
    "### Section 3a: Classify each test image by training and using the SVM classifiers"
   ]
  },
  {
   "cell_type": "code",
   "execution_count": 8,
   "metadata": {},
   "outputs": [
    {
     "name": "stdout",
     "output_type": "stream",
     "text": [
      "Using SVM classifier to predict test set categories\n",
      "Training and classifying with 1-vs-all Linear SVMs (C=7.0)...\n",
      "Training 15 1-vs-all SVMs...\n"
     ]
    },
    {
     "name": "stderr",
     "output_type": "stream",
     "text": [
      "/home/stu_12310401/miniconda3/envs/assignment3/lib/python3.9/site-packages/sklearn/svm/_base.py:1249: ConvergenceWarning: Liblinear failed to converge, increase the number of iterations.\n",
      "  warnings.warn(\n",
      "/home/stu_12310401/miniconda3/envs/assignment3/lib/python3.9/site-packages/sklearn/svm/_base.py:1249: ConvergenceWarning: Liblinear failed to converge, increase the number of iterations.\n",
      "  warnings.warn(\n",
      "/home/stu_12310401/miniconda3/envs/assignment3/lib/python3.9/site-packages/sklearn/svm/_base.py:1249: ConvergenceWarning: Liblinear failed to converge, increase the number of iterations.\n",
      "  warnings.warn(\n",
      "/home/stu_12310401/miniconda3/envs/assignment3/lib/python3.9/site-packages/sklearn/svm/_base.py:1249: ConvergenceWarning: Liblinear failed to converge, increase the number of iterations.\n",
      "  warnings.warn(\n",
      "/home/stu_12310401/miniconda3/envs/assignment3/lib/python3.9/site-packages/sklearn/svm/_base.py:1249: ConvergenceWarning: Liblinear failed to converge, increase the number of iterations.\n",
      "  warnings.warn(\n",
      "/home/stu_12310401/miniconda3/envs/assignment3/lib/python3.9/site-packages/sklearn/svm/_base.py:1249: ConvergenceWarning: Liblinear failed to converge, increase the number of iterations.\n",
      "  warnings.warn(\n",
      "/home/stu_12310401/miniconda3/envs/assignment3/lib/python3.9/site-packages/sklearn/svm/_base.py:1249: ConvergenceWarning: Liblinear failed to converge, increase the number of iterations.\n",
      "  warnings.warn(\n",
      "/home/stu_12310401/miniconda3/envs/assignment3/lib/python3.9/site-packages/sklearn/svm/_base.py:1249: ConvergenceWarning: Liblinear failed to converge, increase the number of iterations.\n",
      "  warnings.warn(\n",
      "/home/stu_12310401/miniconda3/envs/assignment3/lib/python3.9/site-packages/sklearn/svm/_base.py:1249: ConvergenceWarning: Liblinear failed to converge, increase the number of iterations.\n",
      "  warnings.warn(\n",
      "/home/stu_12310401/miniconda3/envs/assignment3/lib/python3.9/site-packages/sklearn/svm/_base.py:1249: ConvergenceWarning: Liblinear failed to converge, increase the number of iterations.\n",
      "  warnings.warn(\n"
     ]
    },
    {
     "name": "stdout",
     "output_type": "stream",
     "text": [
      "Predicting categories using trained SVMs...\n"
     ]
    },
    {
     "name": "stderr",
     "output_type": "stream",
     "text": [
      "/home/stu_12310401/miniconda3/envs/assignment3/lib/python3.9/site-packages/sklearn/svm/_base.py:1249: ConvergenceWarning: Liblinear failed to converge, increase the number of iterations.\n",
      "  warnings.warn(\n",
      "/home/stu_12310401/miniconda3/envs/assignment3/lib/python3.9/site-packages/sklearn/svm/_base.py:1249: ConvergenceWarning: Liblinear failed to converge, increase the number of iterations.\n",
      "  warnings.warn(\n"
     ]
    }
   ],
   "source": [
    "print('Using SVM classifier to predict test set categories')\n",
    "predicted_categories = sc.svm_classify(train_image_feats, train_labels, test_image_feats)"
   ]
  },
  {
   "cell_type": "markdown",
   "metadata": {},
   "source": [
    "### Section 3b: Build a confusion matrix and score the recognition system"
   ]
  },
  {
   "cell_type": "code",
   "execution_count": 9,
   "metadata": {},
   "outputs": [
    {
     "data": {
      "image/png": "[encoded data removed]",
      "text/plain": [
       "<Figure size 640x480 with 1 Axes>"
      ]
     },
     "metadata": {},
     "output_type": "display_data"
    }
   ],
   "source": [
    "show_results(train_image_paths, test_image_paths, train_labels, test_labels, categories, abbr_categories,\n",
    "             predicted_categories,figname=f'{vocab_filename} + SVM.png')"
   ]
  },
  {
   "cell_type": "markdown",
   "metadata": {},
   "source": [
    "## Cross Validation"
   ]
  },
  {
   "cell_type": "code",
   "execution_count": 10,
   "metadata": {},
   "outputs": [
    {
     "name": "stdout",
     "output_type": "stream",
     "text": [
      "Starting cross-validation experiments...\n",
      "Data path: /home/stu_12310401/SUSTech-CV/Assignment3/Assignment3_code/data\n",
      "Num iterations: 3\n"
     ]
    }
   ],
   "source": [
    "from crossvalidation import run_cross_validation\n",
    "DATA_PATH = osp.join('..', 'data') \n",
    "CATEGORIES = ['Kitchen', 'Store', 'Bedroom', 'LivingRoom', 'Office', \n",
    "                'Industrial', 'Suburb', 'InsideCity', 'TallBuilding', \n",
    "                'Street', 'Highway', 'OpenCountry', 'Coast', 'Mountain', 'Forest']\n",
    "NUM_CV_ITERATIONS = 3 \n",
    "\n",
    "print(\"Starting cross-validation experiments...\")\n",
    "print(f\"Data path: {osp.abspath(DATA_PATH)}\")\n",
    "print(f\"Num iterations: {NUM_CV_ITERATIONS}\")"
   ]
  },
  {
   "cell_type": "code",
   "execution_count": 11,
   "metadata": {},
   "outputs": [
    {
     "name": "stdout",
     "output_type": "stream",
     "text": [
      "\n",
      "\n",
      "===== EXPERIMENT 1: Tiny Images + 1-NN =====\n",
      "Collecting all image paths from '../data/[train|test]/[category_name]/' structure...\n",
      "Finished collecting and shuffling all image paths for each category.\n",
      "\n",
      "--- Cross-Validation Iteration 1/3 ---\n",
      "  Iter 1: 1500 train imgs, 1500 test imgs.\n",
      "  Extracting Tiny Image features...\n",
      "Getting tiny images...\n",
      "Getting tiny images...\n",
      "  Running K-NN (k=1, metric='euclidean')...\n",
      "Classifying using 1-Nearest Neighbor(s) with metric: euclidean...\n",
      "  Accuracy for fold 1: 20.47%\n",
      "  Iteration 1 completed in 3.77 seconds.\n",
      "\n",
      "--- Cross-Validation Iteration 2/3 ---\n",
      "  Iter 2: 1500 train imgs, 1500 test imgs.\n",
      "  Extracting Tiny Image features...\n",
      "Getting tiny images...\n",
      "Getting tiny images...\n",
      "  Running K-NN (k=1, metric='euclidean')...\n",
      "Classifying using 1-Nearest Neighbor(s) with metric: euclidean...\n",
      "  Accuracy for fold 2: 22.07%\n",
      "  Iteration 2 completed in 3.97 seconds.\n",
      "\n",
      "--- Cross-Validation Iteration 3/3 ---\n",
      "  Iter 3: 1500 train imgs, 1500 test imgs.\n",
      "  Extracting Tiny Image features...\n",
      "Getting tiny images...\n",
      "Getting tiny images...\n",
      "  Running K-NN (k=1, metric='euclidean')...\n",
      "Classifying using 1-Nearest Neighbor(s) with metric: euclidean...\n",
      "  Accuracy for fold 3: 21.33%\n",
      "  Iteration 3 completed in 3.88 seconds.\n",
      "\n",
      "\n",
      "--- Cross-Validation Summary (tiny_image & knn) ---\n",
      "Num iterations: 3 (Successful folds recorded: 3)\n",
      "Mean Accuracy: 21.29%\n",
      "Std Dev Accuracy: 0.65%\n",
      "Individual accuracies: ['20.47%', '22.07%', '21.33%']\n"
     ]
    },
    {
     "data": {
      "text/plain": [
       "(0.2128888888888889,\n",
       " 0.006539528430916522,\n",
       " [0.20466666666666666, 0.22066666666666668, 0.21333333333333335])"
      ]
     },
     "execution_count": 11,
     "metadata": {},
     "output_type": "execute_result"
    }
   ],
   "source": [
    "print(\"\\n\\n===== EXPERIMENT 1: Tiny Images + 1-NN =====\")\n",
    "run_cross_validation(\n",
    "    data_path=DATA_PATH, categories=CATEGORIES, num_iterations=NUM_CV_ITERATIONS,\n",
    "    feature_type='tiny_image', classifier_type='knn', k_for_knn=1, metric_for_knn='euclidean'\n",
    ")"
   ]
  },
  {
   "cell_type": "code",
   "execution_count": 12,
   "metadata": {},
   "outputs": [
    {
     "name": "stdout",
     "output_type": "stream",
     "text": [
      "\n",
      "\n",
      "===== EXPERIMENT 2: Tiny Images + KNN =====\n",
      "Collecting all image paths from '../data/[train|test]/[category_name]/' structure...\n",
      "Finished collecting and shuffling all image paths for each category.\n",
      "\n",
      "--- Cross-Validation Iteration 1/3 ---\n",
      "  Iter 1: 1500 train imgs, 1500 test imgs.\n",
      "  Extracting Tiny Image features...\n",
      "Getting tiny images...\n",
      "Getting tiny images...\n",
      "  Running K-NN (k=3, metric='euclidean')...\n",
      "Classifying using 3-Nearest Neighbor(s) with metric: euclidean...\n",
      "  Accuracy for fold 1: 24.00%\n",
      "  Iteration 1 completed in 3.99 seconds.\n",
      "\n",
      "--- Cross-Validation Iteration 2/3 ---\n",
      "  Iter 2: 1500 train imgs, 1500 test imgs.\n",
      "  Extracting Tiny Image features...\n",
      "Getting tiny images...\n",
      "Getting tiny images...\n",
      "  Running K-NN (k=3, metric='euclidean')...\n",
      "Classifying using 3-Nearest Neighbor(s) with metric: euclidean...\n",
      "  Accuracy for fold 2: 21.87%\n",
      "  Iteration 2 completed in 3.97 seconds.\n",
      "\n",
      "--- Cross-Validation Iteration 3/3 ---\n",
      "  Iter 3: 1500 train imgs, 1500 test imgs.\n",
      "  Extracting Tiny Image features...\n",
      "Getting tiny images...\n",
      "Getting tiny images...\n",
      "  Running K-NN (k=3, metric='euclidean')...\n",
      "Classifying using 3-Nearest Neighbor(s) with metric: euclidean...\n",
      "  Accuracy for fold 3: 21.73%\n",
      "  Iteration 3 completed in 3.97 seconds.\n",
      "\n",
      "\n",
      "--- Cross-Validation Summary (tiny_image & knn) ---\n",
      "Num iterations: 3 (Successful folds recorded: 3)\n",
      "Mean Accuracy: 22.53%\n",
      "Std Dev Accuracy: 1.04%\n",
      "Individual accuracies: ['24.00%', '21.87%', '21.73%']\n"
     ]
    },
    {
     "data": {
      "text/plain": [
       "(0.2253333333333333,\n",
       " 0.010385174618264817,\n",
       " [0.24, 0.21866666666666668, 0.21733333333333332])"
      ]
     },
     "execution_count": 12,
     "metadata": {},
     "output_type": "execute_result"
    }
   ],
   "source": [
    "print(\"\\n\\n===== EXPERIMENT 2: Tiny Images + KNN =====\")\n",
    "run_cross_validation(\n",
    "    data_path=DATA_PATH, categories=CATEGORIES, num_iterations=NUM_CV_ITERATIONS,\n",
    "    feature_type='tiny_image', classifier_type='knn', k_for_knn=3, metric_for_knn='euclidean'\n",
    ")"
   ]
  },
  {
   "cell_type": "code",
   "execution_count": 12,
   "metadata": {},
   "outputs": [
    {
     "name": "stdout",
     "output_type": "stream",
     "text": [
      "\n",
      "\n",
      "===== EXPERIMENT 2: Tiny Images + KNN =====\n",
      "Collecting all image paths from '../data/[train|test]/[category_name]/' structure...\n",
      "Finished collecting and shuffling all image paths for each category.\n",
      "\n",
      "--- Cross-Validation Iteration 1/3 ---\n",
      "  Iter 1: 1500 train imgs, 1500 test imgs.\n",
      "  Extracting Tiny Image features...\n",
      "Getting tiny images...\n",
      "Getting tiny images...\n",
      "  Running K-NN (k=5, metric='euclidean')...\n",
      "Classifying using 5-Nearest Neighbor(s) with metric: euclidean...\n",
      "  Accuracy for fold 1: 23.60%\n",
      "  Iteration 1 completed in 3.60 seconds.\n",
      "\n",
      "--- Cross-Validation Iteration 2/3 ---\n",
      "  Iter 2: 1500 train imgs, 1500 test imgs.\n",
      "  Extracting Tiny Image features...\n",
      "Getting tiny images...\n",
      "Getting tiny images...\n",
      "  Running K-NN (k=5, metric='euclidean')...\n",
      "Classifying using 5-Nearest Neighbor(s) with metric: euclidean...\n",
      "  Accuracy for fold 2: 23.53%\n",
      "  Iteration 2 completed in 3.52 seconds.\n",
      "\n",
      "--- Cross-Validation Iteration 3/3 ---\n",
      "  Iter 3: 1500 train imgs, 1500 test imgs.\n",
      "  Extracting Tiny Image features...\n",
      "Getting tiny images...\n",
      "Getting tiny images...\n",
      "  Running K-NN (k=5, metric='euclidean')...\n",
      "Classifying using 5-Nearest Neighbor(s) with metric: euclidean...\n",
      "  Accuracy for fold 3: 23.00%\n",
      "  Iteration 3 completed in 3.61 seconds.\n",
      "\n",
      "\n",
      "--- Cross-Validation Summary (tiny_image & knn) ---\n",
      "Num iterations: 3 (Successful folds recorded: 3)\n",
      "Mean Accuracy: 23.38%\n",
      "Std Dev Accuracy: 0.27%\n",
      "Individual accuracies: ['23.60%', '23.53%', '23.00%']\n"
     ]
    },
    {
     "data": {
      "text/plain": [
       "(0.23377777777777778, 0.002685121327465453, [0.236, 0.23533333333333334, 0.23])"
      ]
     },
     "execution_count": 12,
     "metadata": {},
     "output_type": "execute_result"
    }
   ],
   "source": [
    "print(\"\\n\\n===== EXPERIMENT 2: Tiny Images + KNN =====\")\n",
    "run_cross_validation(\n",
    "    data_path=DATA_PATH, categories=CATEGORIES, num_iterations=NUM_CV_ITERATIONS,\n",
    "    feature_type='tiny_image', classifier_type='knn', k_for_knn=5, metric_for_knn='euclidean'\n",
    ")"
   ]
  },
  {
   "cell_type": "code",
   "execution_count": 13,
   "metadata": {},
   "outputs": [
    {
     "name": "stdout",
     "output_type": "stream",
     "text": [
      "\n",
      "\n",
      "===== EXPERIMENT 2: Tiny Images + KNN =====\n",
      "Collecting all image paths from '../data/[train|test]/[category_name]/' structure...\n",
      "Finished collecting and shuffling all image paths for each category.\n",
      "\n",
      "--- Cross-Validation Iteration 1/3 ---\n",
      "  Iter 1: 1500 train imgs, 1500 test imgs.\n",
      "  Extracting Tiny Image features...\n",
      "Getting tiny images...\n",
      "Getting tiny images...\n",
      "  Running K-NN (k=7, metric='euclidean')...\n",
      "Classifying using 7-Nearest Neighbor(s) with metric: euclidean...\n",
      "  Accuracy for fold 1: 21.53%\n",
      "  Iteration 1 completed in 3.68 seconds.\n",
      "\n",
      "--- Cross-Validation Iteration 2/3 ---\n",
      "  Iter 2: 1500 train imgs, 1500 test imgs.\n",
      "  Extracting Tiny Image features...\n",
      "Getting tiny images...\n",
      "Getting tiny images...\n",
      "  Running K-NN (k=7, metric='euclidean')...\n",
      "Classifying using 7-Nearest Neighbor(s) with metric: euclidean...\n",
      "  Accuracy for fold 2: 21.33%\n",
      "  Iteration 2 completed in 3.58 seconds.\n",
      "\n",
      "--- Cross-Validation Iteration 3/3 ---\n",
      "  Iter 3: 1500 train imgs, 1500 test imgs.\n",
      "  Extracting Tiny Image features...\n",
      "Getting tiny images...\n",
      "Getting tiny images...\n",
      "  Running K-NN (k=7, metric='euclidean')...\n",
      "Classifying using 7-Nearest Neighbor(s) with metric: euclidean...\n",
      "  Accuracy for fold 3: 22.27%\n",
      "  Iteration 3 completed in 3.50 seconds.\n",
      "\n",
      "\n",
      "--- Cross-Validation Summary (tiny_image & knn) ---\n",
      "Num iterations: 3 (Successful folds recorded: 3)\n",
      "Mean Accuracy: 21.71%\n",
      "Std Dev Accuracy: 0.40%\n",
      "Individual accuracies: ['21.53%', '21.33%', '22.27%']\n"
     ]
    },
    {
     "data": {
      "text/plain": [
       "(0.21711111111111112,\n",
       " 0.004012326685615067,\n",
       " [0.21533333333333332, 0.21333333333333335, 0.22266666666666668])"
      ]
     },
     "execution_count": 13,
     "metadata": {},
     "output_type": "execute_result"
    }
   ],
   "source": [
    "print(\"\\n\\n===== EXPERIMENT 2: Tiny Images + KNN =====\")\n",
    "run_cross_validation(\n",
    "    data_path=DATA_PATH, categories=CATEGORIES, num_iterations=NUM_CV_ITERATIONS,\n",
    "    feature_type='tiny_image', classifier_type='knn', k_for_knn=7, metric_for_knn='euclidean'\n",
    ")"
   ]
  },
  {
   "cell_type": "code",
   "execution_count": 14,
   "metadata": {},
   "outputs": [
    {
     "name": "stdout",
     "output_type": "stream",
     "text": [
      "\n",
      "\n",
      "===== EXPERIMENT 2: Tiny Images + KNN =====\n",
      "Collecting all image paths from '../data/[train|test]/[category_name]/' structure...\n",
      "Finished collecting and shuffling all image paths for each category.\n",
      "\n",
      "--- Cross-Validation Iteration 1/3 ---\n",
      "  Iter 1: 1500 train imgs, 1500 test imgs.\n",
      "  Extracting Tiny Image features...\n",
      "Getting tiny images...\n",
      "Getting tiny images...\n",
      "  Running K-NN (k=9, metric='euclidean')...\n",
      "Classifying using 9-Nearest Neighbor(s) with metric: euclidean...\n",
      "  Accuracy for fold 1: 20.40%\n",
      "  Iteration 1 completed in 3.50 seconds.\n",
      "\n",
      "--- Cross-Validation Iteration 2/3 ---\n",
      "  Iter 2: 1500 train imgs, 1500 test imgs.\n",
      "  Extracting Tiny Image features...\n",
      "Getting tiny images...\n",
      "Getting tiny images...\n",
      "  Running K-NN (k=9, metric='euclidean')...\n",
      "Classifying using 9-Nearest Neighbor(s) with metric: euclidean...\n",
      "  Accuracy for fold 2: 21.27%\n",
      "  Iteration 2 completed in 3.52 seconds.\n",
      "\n",
      "--- Cross-Validation Iteration 3/3 ---\n",
      "  Iter 3: 1500 train imgs, 1500 test imgs.\n",
      "  Extracting Tiny Image features...\n",
      "Getting tiny images...\n",
      "Getting tiny images...\n",
      "  Running K-NN (k=9, metric='euclidean')...\n",
      "Classifying using 9-Nearest Neighbor(s) with metric: euclidean...\n",
      "  Accuracy for fold 3: 21.20%\n",
      "  Iteration 3 completed in 3.60 seconds.\n",
      "\n",
      "\n",
      "--- Cross-Validation Summary (tiny_image & knn) ---\n",
      "Num iterations: 3 (Successful folds recorded: 3)\n",
      "Mean Accuracy: 20.96%\n",
      "Std Dev Accuracy: 0.39%\n",
      "Individual accuracies: ['20.40%', '21.27%', '21.20%']\n"
     ]
    },
    {
     "data": {
      "text/plain": [
       "(0.20955555555555552,\n",
       " 0.0039377878103709725,\n",
       " [0.204, 0.21266666666666667, 0.212])"
      ]
     },
     "execution_count": 14,
     "metadata": {},
     "output_type": "execute_result"
    }
   ],
   "source": [
    "print(\"\\n\\n===== EXPERIMENT 1: Tiny Images + KNN =====\")\n",
    "run_cross_validation(\n",
    "    data_path=DATA_PATH, categories=CATEGORIES, num_iterations=NUM_CV_ITERATIONS,\n",
    "    feature_type='tiny_image', classifier_type='knn', k_for_knn=9, metric_for_knn='euclidean'\n",
    ")"
   ]
  },
  {
   "cell_type": "code",
   "execution_count": 13,
   "metadata": {},
   "outputs": [
    {
     "name": "stdout",
     "output_type": "stream",
     "text": [
      "\n",
      "\n",
      "===== EXPERIMENT 2: Bag of SIFT + KNN =====\n",
      "Collecting all image paths from '../data/[train|test]/[category_name]/' structure...\n",
      "Finished collecting and shuffling all image paths for each category.\n",
      "\n",
      "--- Vocabulary Handling for Bag of SIFT (Size: 10) ---\n",
      "Target vocabulary file: vocab_10.pkl\n",
      "Using existing vocabulary file: vocab_10.pkl\n",
      "Successfully loaded existing vocabulary. Size: 10\n",
      "\n",
      "--- Cross-Validation Iteration 1/3 ---\n",
      "  Iter 1: 1500 train imgs, 1500 test imgs.\n",
      "  Extracting BoS features using shared vocab: vocab_10.pkl\n",
      "Loading vocabulary from vocab_10.pkl...\n",
      "Getting Bags of SIFTs (SIFT step: 5, fast: True, vocab size: 10)...\n",
      "BoS feature extraction took 16.74 seconds. Features shape: (1500, 10)\n",
      "Loading vocabulary from vocab_10.pkl...\n",
      "Getting Bags of SIFTs (SIFT step: 5, fast: True, vocab size: 10)...\n",
      "BoS feature extraction took 16.52 seconds. Features shape: (1500, 10)\n",
      "  Running K-NN (k=3, metric='euclidean')...\n",
      "Classifying using 3-Nearest Neighbor(s) with metric: euclidean...\n",
      "  Accuracy for fold 1: 44.07%\n",
      "  Iteration 1 completed in 33.44 seconds.\n",
      "\n",
      "--- Cross-Validation Iteration 2/3 ---\n",
      "  Iter 2: 1500 train imgs, 1500 test imgs.\n",
      "  Extracting BoS features using shared vocab: vocab_10.pkl\n",
      "Loading vocabulary from vocab_10.pkl...\n",
      "Getting Bags of SIFTs (SIFT step: 5, fast: True, vocab size: 10)...\n",
      "BoS feature extraction took 16.37 seconds. Features shape: (1500, 10)\n",
      "Loading vocabulary from vocab_10.pkl...\n",
      "Getting Bags of SIFTs (SIFT step: 5, fast: True, vocab size: 10)...\n",
      "BoS feature extraction took 16.47 seconds. Features shape: (1500, 10)\n",
      "  Running K-NN (k=3, metric='euclidean')...\n",
      "Classifying using 3-Nearest Neighbor(s) with metric: euclidean...\n",
      "  Accuracy for fold 2: 42.53%\n",
      "  Iteration 2 completed in 33.02 seconds.\n",
      "\n",
      "--- Cross-Validation Iteration 3/3 ---\n",
      "  Iter 3: 1500 train imgs, 1500 test imgs.\n",
      "  Extracting BoS features using shared vocab: vocab_10.pkl\n",
      "Loading vocabulary from vocab_10.pkl...\n",
      "Getting Bags of SIFTs (SIFT step: 5, fast: True, vocab size: 10)...\n",
      "BoS feature extraction took 16.64 seconds. Features shape: (1500, 10)\n",
      "Loading vocabulary from vocab_10.pkl...\n",
      "Getting Bags of SIFTs (SIFT step: 5, fast: True, vocab size: 10)...\n",
      "BoS feature extraction took 16.64 seconds. Features shape: (1500, 10)\n",
      "  Running K-NN (k=3, metric='euclidean')...\n",
      "Classifying using 3-Nearest Neighbor(s) with metric: euclidean...\n",
      "  Accuracy for fold 3: 42.07%\n",
      "  Iteration 3 completed in 33.45 seconds.\n",
      "\n",
      "\n",
      "--- Cross-Validation Summary (bag_of_sifts & knn) ---\n",
      "Num iterations: 3 (Successful folds recorded: 3)\n",
      "Vocabulary file used/created: vocab_10.pkl (Size: 10)\n",
      "Mean Accuracy: 42.89%\n",
      "Std Dev Accuracy: 0.85%\n",
      "Individual accuracies: ['44.07%', '42.53%', '42.07%']\n"
     ]
    },
    {
     "data": {
      "text/plain": [
       "(0.4288888888888889,\n",
       " 0.008543281238551578,\n",
       " [0.44066666666666665, 0.42533333333333334, 0.4206666666666667])"
      ]
     },
     "execution_count": 13,
     "metadata": {},
     "output_type": "execute_result"
    }
   ],
   "source": [
    "print(\"\\n\\n===== EXPERIMENT 2: Bag of SIFT + KNN =====\")\n",
    "run_cross_validation(\n",
    "    data_path=DATA_PATH, categories=CATEGORIES, num_iterations=NUM_CV_ITERATIONS,\n",
    "    feature_type='bag_of_sifts', classifier_type='knn',\n",
    "    vocab_size_for_sift=10,      # This determines the filename e.g. vocab_100.pkl\n",
    "    sift_step_vocab=10,           # SIFT params for vocab build\n",
    "    sift_fast_vocab=True,\n",
    "    sift_step_features=5,         # SIFT params for feature extraction\n",
    "    sift_fast_features=True,\n",
    "    k_for_knn=3,\n",
    "    metric_for_knn='euclidean',\n",
    "    force_vocab_rebuild=False     # Set to True to rebuild vocab_100.pkl if it exists\n",
    ")"
   ]
  },
  {
   "cell_type": "code",
   "execution_count": 14,
   "metadata": {},
   "outputs": [
    {
     "name": "stdout",
     "output_type": "stream",
     "text": [
      "\n",
      "\n",
      "===== EXPERIMENT 2: Bag of SIFT + KNN =====\n",
      "Collecting all image paths from '../data/[train|test]/[category_name]/' structure...\n",
      "Finished collecting and shuffling all image paths for each category.\n",
      "\n",
      "--- Vocabulary Handling for Bag of SIFT (Size: 50) ---\n",
      "Target vocabulary file: vocab_50.pkl\n",
      "Using existing vocabulary file: vocab_50.pkl\n",
      "Successfully loaded existing vocabulary. Size: 50\n",
      "\n",
      "--- Cross-Validation Iteration 1/3 ---\n",
      "  Iter 1: 1500 train imgs, 1500 test imgs.\n",
      "  Extracting BoS features using shared vocab: vocab_50.pkl\n",
      "Loading vocabulary from vocab_50.pkl...\n",
      "Getting Bags of SIFTs (SIFT step: 5, fast: True, vocab size: 50)...\n",
      "BoS feature extraction took 21.75 seconds. Features shape: (1500, 50)\n",
      "Loading vocabulary from vocab_50.pkl...\n",
      "Getting Bags of SIFTs (SIFT step: 5, fast: True, vocab size: 50)...\n",
      "BoS feature extraction took 21.12 seconds. Features shape: (1500, 50)\n",
      "  Running K-NN (k=3, metric='euclidean')...\n",
      "Classifying using 3-Nearest Neighbor(s) with metric: euclidean...\n",
      "  Accuracy for fold 1: 50.93%\n",
      "  Iteration 1 completed in 43.21 seconds.\n",
      "\n",
      "--- Cross-Validation Iteration 2/3 ---\n",
      "  Iter 2: 1500 train imgs, 1500 test imgs.\n",
      "  Extracting BoS features using shared vocab: vocab_50.pkl\n",
      "Loading vocabulary from vocab_50.pkl...\n",
      "Getting Bags of SIFTs (SIFT step: 5, fast: True, vocab size: 50)...\n",
      "BoS feature extraction took 21.17 seconds. Features shape: (1500, 50)\n",
      "Loading vocabulary from vocab_50.pkl...\n",
      "Getting Bags of SIFTs (SIFT step: 5, fast: True, vocab size: 50)...\n",
      "BoS feature extraction took 20.85 seconds. Features shape: (1500, 50)\n",
      "  Running K-NN (k=3, metric='euclidean')...\n",
      "Classifying using 3-Nearest Neighbor(s) with metric: euclidean...\n",
      "  Accuracy for fold 2: 50.87%\n",
      "  Iteration 2 completed in 42.36 seconds.\n",
      "\n",
      "--- Cross-Validation Iteration 3/3 ---\n",
      "  Iter 3: 1500 train imgs, 1500 test imgs.\n",
      "  Extracting BoS features using shared vocab: vocab_50.pkl\n",
      "Loading vocabulary from vocab_50.pkl...\n",
      "Getting Bags of SIFTs (SIFT step: 5, fast: True, vocab size: 50)...\n",
      "BoS feature extraction took 21.08 seconds. Features shape: (1500, 50)\n",
      "Loading vocabulary from vocab_50.pkl...\n",
      "Getting Bags of SIFTs (SIFT step: 5, fast: True, vocab size: 50)...\n",
      "BoS feature extraction took 21.05 seconds. Features shape: (1500, 50)\n",
      "  Running K-NN (k=3, metric='euclidean')...\n",
      "Classifying using 3-Nearest Neighbor(s) with metric: euclidean...\n",
      "  Accuracy for fold 3: 50.33%\n",
      "  Iteration 3 completed in 42.45 seconds.\n",
      "\n",
      "\n",
      "--- Cross-Validation Summary (bag_of_sifts & knn) ---\n",
      "Num iterations: 3 (Successful folds recorded: 3)\n",
      "Vocabulary file used/created: vocab_50.pkl (Size: 50)\n",
      "Mean Accuracy: 50.71%\n",
      "Std Dev Accuracy: 0.27%\n",
      "Individual accuracies: ['50.93%', '50.87%', '50.33%']\n"
     ]
    },
    {
     "data": {
      "text/plain": [
       "(0.5071111111111111,\n",
       " 0.002685121327465477,\n",
       " [0.5093333333333333, 0.5086666666666667, 0.5033333333333333])"
      ]
     },
     "execution_count": 14,
     "metadata": {},
     "output_type": "execute_result"
    }
   ],
   "source": [
    "print(\"\\n\\n===== EXPERIMENT 2: Bag of SIFT + KNN =====\")\n",
    "run_cross_validation(\n",
    "    data_path=DATA_PATH, categories=CATEGORIES, num_iterations=NUM_CV_ITERATIONS,\n",
    "    feature_type='bag_of_sifts', classifier_type='knn',\n",
    "    vocab_size_for_sift=50,      \n",
    "    sift_step_vocab=10,           \n",
    "    sift_fast_vocab=True,\n",
    "    sift_step_features=5,         \n",
    "    sift_fast_features=True,\n",
    "    k_for_knn=3,\n",
    "    metric_for_knn='euclidean',\n",
    "    force_vocab_rebuild=False     \n",
    ")"
   ]
  },
  {
   "cell_type": "code",
   "execution_count": 16,
   "metadata": {},
   "outputs": [
    {
     "name": "stdout",
     "output_type": "stream",
     "text": [
      "\n",
      "\n",
      "===== EXPERIMENT 2: Bag of SIFT + KNN =====\n",
      "Collecting all image paths from '../data/[train|test]/[category_name]/' structure...\n",
      "Finished collecting and shuffling all image paths for each category.\n",
      "\n",
      "--- Vocabulary Handling for Bag of SIFT (Size: 100) ---\n",
      "Target vocabulary file: vocab_100.pkl\n",
      "Using existing vocabulary file: vocab_100.pkl\n",
      "Successfully loaded existing vocabulary. Size: 100\n",
      "\n",
      "--- Cross-Validation Iteration 1/3 ---\n",
      "  Iter 1: 1500 train imgs, 1500 test imgs.\n",
      "  Extracting BoS features using shared vocab: vocab_100.pkl\n",
      "Loading vocabulary from vocab_100.pkl...\n",
      "Getting Bags of SIFTs (SIFT step: 5, fast: True, vocab size: 100)...\n",
      "BoS feature extraction took 26.72 seconds. Features shape: (1500, 100)\n",
      "Loading vocabulary from vocab_100.pkl...\n",
      "Getting Bags of SIFTs (SIFT step: 5, fast: True, vocab size: 100)...\n",
      "BoS feature extraction took 26.84 seconds. Features shape: (1500, 100)\n",
      "  Running K-NN (k=3, metric='euclidean')...\n",
      "Classifying using 3-Nearest Neighbor(s) with metric: euclidean...\n",
      "  Accuracy for fold 1: 52.00%\n",
      "  Iteration 1 completed in 53.77 seconds.\n",
      "\n",
      "--- Cross-Validation Iteration 2/3 ---\n",
      "  Iter 2: 1500 train imgs, 1500 test imgs.\n",
      "  Extracting BoS features using shared vocab: vocab_100.pkl\n",
      "Loading vocabulary from vocab_100.pkl...\n",
      "Getting Bags of SIFTs (SIFT step: 5, fast: True, vocab size: 100)...\n",
      "BoS feature extraction took 26.83 seconds. Features shape: (1500, 100)\n",
      "Loading vocabulary from vocab_100.pkl...\n",
      "Getting Bags of SIFTs (SIFT step: 5, fast: True, vocab size: 100)...\n",
      "BoS feature extraction took 26.73 seconds. Features shape: (1500, 100)\n",
      "  Running K-NN (k=3, metric='euclidean')...\n",
      "Classifying using 3-Nearest Neighbor(s) with metric: euclidean...\n",
      "  Accuracy for fold 2: 52.93%\n",
      "  Iteration 2 completed in 53.89 seconds.\n",
      "\n",
      "--- Cross-Validation Iteration 3/3 ---\n",
      "  Iter 3: 1500 train imgs, 1500 test imgs.\n",
      "  Extracting BoS features using shared vocab: vocab_100.pkl\n",
      "Loading vocabulary from vocab_100.pkl...\n",
      "Getting Bags of SIFTs (SIFT step: 5, fast: True, vocab size: 100)...\n",
      "BoS feature extraction took 26.75 seconds. Features shape: (1500, 100)\n",
      "Loading vocabulary from vocab_100.pkl...\n",
      "Getting Bags of SIFTs (SIFT step: 5, fast: True, vocab size: 100)...\n",
      "BoS feature extraction took 27.16 seconds. Features shape: (1500, 100)\n",
      "  Running K-NN (k=3, metric='euclidean')...\n",
      "Classifying using 3-Nearest Neighbor(s) with metric: euclidean...\n",
      "  Accuracy for fold 3: 53.07%\n",
      "  Iteration 3 completed in 54.20 seconds.\n",
      "\n",
      "\n",
      "--- Cross-Validation Summary (bag_of_sifts & knn) ---\n",
      "Num iterations: 3 (Successful folds recorded: 3)\n",
      "Vocabulary file used/created: vocab_100.pkl (Size: 100)\n",
      "Mean Accuracy: 52.67%\n",
      "Std Dev Accuracy: 0.47%\n",
      "Individual accuracies: ['52.00%', '52.93%', '53.07%']\n"
     ]
    },
    {
     "data": {
      "text/plain": [
       "(0.5266666666666666,\n",
       " 0.004745368112013893,\n",
       " [0.52, 0.5293333333333333, 0.5306666666666666])"
      ]
     },
     "execution_count": 16,
     "metadata": {},
     "output_type": "execute_result"
    }
   ],
   "source": [
    "print(\"\\n\\n===== EXPERIMENT 2: Bag of SIFT + KNN =====\")\n",
    "run_cross_validation(\n",
    "    data_path=DATA_PATH, categories=CATEGORIES, num_iterations=NUM_CV_ITERATIONS,\n",
    "    feature_type='bag_of_sifts', classifier_type='knn',\n",
    "    vocab_size_for_sift=100,      \n",
    "    sift_step_vocab=10,          \n",
    "    sift_fast_vocab=True,\n",
    "    sift_step_features=5,         \n",
    "    sift_fast_features=True,\n",
    "    k_for_knn=3,\n",
    "    metric_for_knn='euclidean',\n",
    "    force_vocab_rebuild=False     \n",
    ")"
   ]
  },
  {
   "cell_type": "code",
   "execution_count": 17,
   "metadata": {},
   "outputs": [
    {
     "name": "stdout",
     "output_type": "stream",
     "text": [
      "\n",
      "\n",
      "===== EXPERIMENT 2: Bag of SIFT + KNN =====\n",
      "Collecting all image paths from '../data/[train|test]/[category_name]/' structure...\n",
      "Finished collecting and shuffling all image paths for each category.\n",
      "\n",
      "--- Vocabulary Handling for Bag of SIFT (Size: 200) ---\n",
      "Target vocabulary file: vocab_200.pkl\n",
      "Using existing vocabulary file: vocab_200.pkl\n",
      "Successfully loaded existing vocabulary. Size: 200\n",
      "\n",
      "--- Cross-Validation Iteration 1/3 ---\n",
      "  Iter 1: 1500 train imgs, 1500 test imgs.\n",
      "  Extracting BoS features using shared vocab: vocab_200.pkl\n",
      "Loading vocabulary from vocab_200.pkl...\n",
      "Getting Bags of SIFTs (SIFT step: 5, fast: True, vocab size: 200)...\n",
      "BoS feature extraction took 39.35 seconds. Features shape: (1500, 200)\n",
      "Loading vocabulary from vocab_200.pkl...\n",
      "Getting Bags of SIFTs (SIFT step: 5, fast: True, vocab size: 200)...\n",
      "BoS feature extraction took 39.12 seconds. Features shape: (1500, 200)\n",
      "  Running K-NN (k=3, metric='euclidean')...\n",
      "Classifying using 3-Nearest Neighbor(s) with metric: euclidean...\n",
      "  Accuracy for fold 1: 53.53%\n",
      "  Iteration 1 completed in 78.76 seconds.\n",
      "\n",
      "--- Cross-Validation Iteration 2/3 ---\n",
      "  Iter 2: 1500 train imgs, 1500 test imgs.\n",
      "  Extracting BoS features using shared vocab: vocab_200.pkl\n",
      "Loading vocabulary from vocab_200.pkl...\n",
      "Getting Bags of SIFTs (SIFT step: 5, fast: True, vocab size: 200)...\n",
      "BoS feature extraction took 39.30 seconds. Features shape: (1500, 200)\n",
      "Loading vocabulary from vocab_200.pkl...\n",
      "Getting Bags of SIFTs (SIFT step: 5, fast: True, vocab size: 200)...\n",
      "BoS feature extraction took 37.94 seconds. Features shape: (1500, 200)\n",
      "  Running K-NN (k=3, metric='euclidean')...\n",
      "Classifying using 3-Nearest Neighbor(s) with metric: euclidean...\n",
      "  Accuracy for fold 2: 55.40%\n",
      "  Iteration 2 completed in 77.59 seconds.\n",
      "\n",
      "--- Cross-Validation Iteration 3/3 ---\n",
      "  Iter 3: 1500 train imgs, 1500 test imgs.\n",
      "  Extracting BoS features using shared vocab: vocab_200.pkl\n",
      "Loading vocabulary from vocab_200.pkl...\n",
      "Getting Bags of SIFTs (SIFT step: 5, fast: True, vocab size: 200)...\n",
      "BoS feature extraction took 38.74 seconds. Features shape: (1500, 200)\n",
      "Loading vocabulary from vocab_200.pkl...\n",
      "Getting Bags of SIFTs (SIFT step: 5, fast: True, vocab size: 200)...\n",
      "BoS feature extraction took 38.55 seconds. Features shape: (1500, 200)\n",
      "  Running K-NN (k=3, metric='euclidean')...\n",
      "Classifying using 3-Nearest Neighbor(s) with metric: euclidean...\n",
      "  Accuracy for fold 3: 54.80%\n",
      "  Iteration 3 completed in 77.64 seconds.\n",
      "\n",
      "\n",
      "--- Cross-Validation Summary (bag_of_sifts & knn) ---\n",
      "Num iterations: 3 (Successful folds recorded: 3)\n",
      "Vocabulary file used/created: vocab_200.pkl (Size: 200)\n",
      "Mean Accuracy: 54.58%\n",
      "Std Dev Accuracy: 0.78%\n",
      "Individual accuracies: ['53.53%', '55.40%', '54.80%']\n"
     ]
    },
    {
     "data": {
      "text/plain": [
       "(0.5457777777777778, 0.007780951733338511, [0.5353333333333333, 0.554, 0.548])"
      ]
     },
     "execution_count": 17,
     "metadata": {},
     "output_type": "execute_result"
    }
   ],
   "source": [
    "print(\"\\n\\n===== EXPERIMENT 2: Bag of SIFT + KNN =====\")\n",
    "run_cross_validation(\n",
    "    data_path=DATA_PATH, categories=CATEGORIES, num_iterations=NUM_CV_ITERATIONS,\n",
    "    feature_type='bag_of_sifts', classifier_type='knn',\n",
    "    vocab_size_for_sift=200,     \n",
    "    sift_step_vocab=10,           \n",
    "    sift_fast_vocab=True,\n",
    "    sift_step_features=5,         \n",
    "    sift_fast_features=True,\n",
    "    k_for_knn=3,\n",
    "    metric_for_knn='euclidean',\n",
    "    force_vocab_rebuild=False     \n",
    ")"
   ]
  },
  {
   "cell_type": "code",
   "execution_count": 18,
   "metadata": {},
   "outputs": [
    {
     "name": "stdout",
     "output_type": "stream",
     "text": [
      "\n",
      "\n",
      "===== EXPERIMENT 2: Bag of SIFT + KNN =====\n",
      "Collecting all image paths from '../data/[train|test]/[category_name]/' structure...\n",
      "Finished collecting and shuffling all image paths for each category.\n",
      "\n",
      "--- Vocabulary Handling for Bag of SIFT (Size: 1000) ---\n",
      "Target vocabulary file: vocab_1000.pkl\n",
      "Using existing vocabulary file: vocab_1000.pkl\n",
      "Successfully loaded existing vocabulary. Size: 1000\n",
      "\n",
      "--- Cross-Validation Iteration 1/3 ---\n",
      "  Iter 1: 1500 train imgs, 1500 test imgs.\n",
      "  Extracting BoS features using shared vocab: vocab_1000.pkl\n",
      "Loading vocabulary from vocab_1000.pkl...\n",
      "Getting Bags of SIFTs (SIFT step: 5, fast: True, vocab size: 1000)...\n",
      "BoS feature extraction took 129.30 seconds. Features shape: (1500, 1000)\n",
      "Loading vocabulary from vocab_1000.pkl...\n",
      "Getting Bags of SIFTs (SIFT step: 5, fast: True, vocab size: 1000)...\n",
      "BoS feature extraction took 127.67 seconds. Features shape: (1500, 1000)\n",
      "  Running K-NN (k=3, metric='euclidean')...\n",
      "Classifying using 3-Nearest Neighbor(s) with metric: euclidean...\n",
      "  Accuracy for fold 1: 52.27%\n",
      "  Iteration 1 completed in 257.50 seconds.\n",
      "\n",
      "--- Cross-Validation Iteration 2/3 ---\n",
      "  Iter 2: 1500 train imgs, 1500 test imgs.\n",
      "  Extracting BoS features using shared vocab: vocab_1000.pkl\n",
      "Loading vocabulary from vocab_1000.pkl...\n",
      "Getting Bags of SIFTs (SIFT step: 5, fast: True, vocab size: 1000)...\n",
      "BoS feature extraction took 127.71 seconds. Features shape: (1500, 1000)\n",
      "Loading vocabulary from vocab_1000.pkl...\n",
      "Getting Bags of SIFTs (SIFT step: 5, fast: True, vocab size: 1000)...\n",
      "BoS feature extraction took 126.45 seconds. Features shape: (1500, 1000)\n",
      "  Running K-NN (k=3, metric='euclidean')...\n",
      "Classifying using 3-Nearest Neighbor(s) with metric: euclidean...\n",
      "  Accuracy for fold 2: 53.53%\n",
      "  Iteration 2 completed in 254.81 seconds.\n",
      "\n",
      "--- Cross-Validation Iteration 3/3 ---\n",
      "  Iter 3: 1500 train imgs, 1500 test imgs.\n",
      "  Extracting BoS features using shared vocab: vocab_1000.pkl\n",
      "Loading vocabulary from vocab_1000.pkl...\n",
      "Getting Bags of SIFTs (SIFT step: 5, fast: True, vocab size: 1000)...\n",
      "BoS feature extraction took 126.52 seconds. Features shape: (1500, 1000)\n",
      "Loading vocabulary from vocab_1000.pkl...\n",
      "Getting Bags of SIFTs (SIFT step: 5, fast: True, vocab size: 1000)...\n",
      "BoS feature extraction took 126.12 seconds. Features shape: (1500, 1000)\n",
      "  Running K-NN (k=3, metric='euclidean')...\n",
      "Classifying using 3-Nearest Neighbor(s) with metric: euclidean...\n",
      "  Accuracy for fold 3: 51.80%\n",
      "  Iteration 3 completed in 253.00 seconds.\n",
      "\n",
      "\n",
      "--- Cross-Validation Summary (bag_of_sifts & knn) ---\n",
      "Num iterations: 3 (Successful folds recorded: 3)\n",
      "Vocabulary file used/created: vocab_1000.pkl (Size: 1000)\n",
      "Mean Accuracy: 52.53%\n",
      "Std Dev Accuracy: 0.73%\n",
      "Individual accuracies: ['52.27%', '53.53%', '51.80%']\n"
     ]
    },
    {
     "data": {
      "text/plain": [
       "(0.5253333333333333,\n",
       " 0.007323225357015147,\n",
       " [0.5226666666666666, 0.5353333333333333, 0.518])"
      ]
     },
     "execution_count": 18,
     "metadata": {},
     "output_type": "execute_result"
    }
   ],
   "source": [
    "print(\"\\n\\n===== EXPERIMENT 2: Bag of SIFT + KNN =====\")\n",
    "run_cross_validation(\n",
    "    data_path=DATA_PATH, categories=CATEGORIES, num_iterations=NUM_CV_ITERATIONS,\n",
    "    feature_type='bag_of_sifts', classifier_type='knn',\n",
    "    vocab_size_for_sift=1000,     \n",
    "    sift_step_vocab=10,          \n",
    "    sift_fast_vocab=True,\n",
    "    sift_step_features=5,         \n",
    "    sift_fast_features=True,\n",
    "    k_for_knn=3,\n",
    "    metric_for_knn='euclidean',\n",
    "    force_vocab_rebuild=False     \n",
    ")"
   ]
  },
  {
   "cell_type": "code",
   "execution_count": 19,
   "metadata": {},
   "outputs": [
    {
     "name": "stdout",
     "output_type": "stream",
     "text": [
      "\n",
      "\n",
      "===== EXPERIMENT 2: Bag of SIFT + KNN =====\n",
      "Collecting all image paths from '../data/[train|test]/[category_name]/' structure...\n",
      "Finished collecting and shuffling all image paths for each category.\n",
      "\n",
      "--- Vocabulary Handling for Bag of SIFT (Size: 1000) ---\n",
      "Target vocabulary file: vocab_1000.pkl\n",
      "Using existing vocabulary file: vocab_1000.pkl\n",
      "Successfully loaded existing vocabulary. Size: 1000\n",
      "\n",
      "--- Cross-Validation Iteration 1/3 ---\n",
      "  Iter 1: 1500 train imgs, 1500 test imgs.\n",
      "  Extracting BoS features using shared vocab: vocab_1000.pkl\n",
      "Loading vocabulary from vocab_1000.pkl...\n",
      "Getting Bags of SIFTs (SIFT step: 5, fast: True, vocab size: 1000)...\n",
      "BoS feature extraction took 124.72 seconds. Features shape: (1500, 1000)\n",
      "Loading vocabulary from vocab_1000.pkl...\n",
      "Getting Bags of SIFTs (SIFT step: 5, fast: True, vocab size: 1000)...\n",
      "BoS feature extraction took 125.45 seconds. Features shape: (1500, 1000)\n",
      "  Running K-NN (k=1, metric='euclidean')...\n",
      "Classifying using 1-Nearest Neighbor(s) with metric: euclidean...\n",
      "  Accuracy for fold 1: 50.07%\n",
      "  Iteration 1 completed in 250.63 seconds.\n",
      "\n",
      "--- Cross-Validation Iteration 2/3 ---\n",
      "  Iter 2: 1500 train imgs, 1500 test imgs.\n",
      "  Extracting BoS features using shared vocab: vocab_1000.pkl\n",
      "Loading vocabulary from vocab_1000.pkl...\n",
      "Getting Bags of SIFTs (SIFT step: 5, fast: True, vocab size: 1000)...\n",
      "BoS feature extraction took 124.34 seconds. Features shape: (1500, 1000)\n",
      "Loading vocabulary from vocab_1000.pkl...\n",
      "Getting Bags of SIFTs (SIFT step: 5, fast: True, vocab size: 1000)...\n",
      "BoS feature extraction took 123.45 seconds. Features shape: (1500, 1000)\n",
      "  Running K-NN (k=1, metric='euclidean')...\n",
      "Classifying using 1-Nearest Neighbor(s) with metric: euclidean...\n",
      "  Accuracy for fold 2: 48.67%\n",
      "  Iteration 2 completed in 248.09 seconds.\n",
      "\n",
      "--- Cross-Validation Iteration 3/3 ---\n",
      "  Iter 3: 1500 train imgs, 1500 test imgs.\n",
      "  Extracting BoS features using shared vocab: vocab_1000.pkl\n",
      "Loading vocabulary from vocab_1000.pkl...\n",
      "Getting Bags of SIFTs (SIFT step: 5, fast: True, vocab size: 1000)...\n",
      "BoS feature extraction took 123.39 seconds. Features shape: (1500, 1000)\n",
      "Loading vocabulary from vocab_1000.pkl...\n",
      "Getting Bags of SIFTs (SIFT step: 5, fast: True, vocab size: 1000)...\n",
      "BoS feature extraction took 124.34 seconds. Features shape: (1500, 1000)\n",
      "  Running K-NN (k=1, metric='euclidean')...\n",
      "Classifying using 1-Nearest Neighbor(s) with metric: euclidean...\n",
      "  Accuracy for fold 3: 50.93%\n",
      "  Iteration 3 completed in 247.91 seconds.\n",
      "\n",
      "\n",
      "--- Cross-Validation Summary (bag_of_sifts & knn) ---\n",
      "Num iterations: 3 (Successful folds recorded: 3)\n",
      "Vocabulary file used/created: vocab_1000.pkl (Size: 1000)\n",
      "Mean Accuracy: 49.89%\n",
      "Std Dev Accuracy: 0.93%\n",
      "Individual accuracies: ['50.07%', '48.67%', '50.93%']\n"
     ]
    },
    {
     "data": {
      "text/plain": [
       "(0.4988888888888889,\n",
       " 0.009338622839755846,\n",
       " [0.5006666666666667, 0.4866666666666667, 0.5093333333333333])"
      ]
     },
     "execution_count": 19,
     "metadata": {},
     "output_type": "execute_result"
    }
   ],
   "source": [
    "print(\"\\n\\n===== EXPERIMENT 2: Bag of SIFT + KNN =====\")\n",
    "run_cross_validation(\n",
    "    data_path=DATA_PATH, categories=CATEGORIES, num_iterations=NUM_CV_ITERATIONS,\n",
    "    feature_type='bag_of_sifts', classifier_type='knn',\n",
    "    vocab_size_for_sift=1000,     \n",
    "    sift_step_vocab=10,          \n",
    "    sift_fast_vocab=True,\n",
    "    sift_step_features=5,         \n",
    "    sift_fast_features=True,\n",
    "    k_for_knn=1,\n",
    "    metric_for_knn='euclidean',\n",
    "    force_vocab_rebuild=False     \n",
    ")"
   ]
  },
  {
   "cell_type": "code",
   "execution_count": 20,
   "metadata": {},
   "outputs": [
    {
     "name": "stdout",
     "output_type": "stream",
     "text": [
      "\n",
      "\n",
      "===== EXPERIMENT 2: Bag of SIFT + KNN =====\n",
      "Collecting all image paths from '../data/[train|test]/[category_name]/' structure...\n",
      "Finished collecting and shuffling all image paths for each category.\n",
      "\n",
      "--- Vocabulary Handling for Bag of SIFT (Size: 1000) ---\n",
      "Target vocabulary file: vocab_1000.pkl\n",
      "Using existing vocabulary file: vocab_1000.pkl\n",
      "Successfully loaded existing vocabulary. Size: 1000\n",
      "\n",
      "--- Cross-Validation Iteration 1/3 ---\n",
      "  Iter 1: 1500 train imgs, 1500 test imgs.\n",
      "  Extracting BoS features using shared vocab: vocab_1000.pkl\n",
      "Loading vocabulary from vocab_1000.pkl...\n",
      "Getting Bags of SIFTs (SIFT step: 5, fast: True, vocab size: 1000)...\n",
      "BoS feature extraction took 122.99 seconds. Features shape: (1500, 1000)\n",
      "Loading vocabulary from vocab_1000.pkl...\n",
      "Getting Bags of SIFTs (SIFT step: 5, fast: True, vocab size: 1000)...\n",
      "BoS feature extraction took 123.39 seconds. Features shape: (1500, 1000)\n",
      "  Running K-NN (k=5, metric='euclidean')...\n",
      "Classifying using 5-Nearest Neighbor(s) with metric: euclidean...\n",
      "  Accuracy for fold 1: 52.67%\n",
      "  Iteration 1 completed in 246.70 seconds.\n",
      "\n",
      "--- Cross-Validation Iteration 2/3 ---\n",
      "  Iter 2: 1500 train imgs, 1500 test imgs.\n",
      "  Extracting BoS features using shared vocab: vocab_1000.pkl\n",
      "Loading vocabulary from vocab_1000.pkl...\n",
      "Getting Bags of SIFTs (SIFT step: 5, fast: True, vocab size: 1000)...\n",
      "BoS feature extraction took 122.97 seconds. Features shape: (1500, 1000)\n",
      "Loading vocabulary from vocab_1000.pkl...\n",
      "Getting Bags of SIFTs (SIFT step: 5, fast: True, vocab size: 1000)...\n",
      "BoS feature extraction took 123.73 seconds. Features shape: (1500, 1000)\n",
      "  Running K-NN (k=5, metric='euclidean')...\n",
      "Classifying using 5-Nearest Neighbor(s) with metric: euclidean...\n",
      "  Accuracy for fold 2: 52.13%\n",
      "  Iteration 2 completed in 247.25 seconds.\n",
      "\n",
      "--- Cross-Validation Iteration 3/3 ---\n",
      "  Iter 3: 1500 train imgs, 1500 test imgs.\n",
      "  Extracting BoS features using shared vocab: vocab_1000.pkl\n",
      "Loading vocabulary from vocab_1000.pkl...\n",
      "Getting Bags of SIFTs (SIFT step: 5, fast: True, vocab size: 1000)...\n",
      "BoS feature extraction took 123.08 seconds. Features shape: (1500, 1000)\n",
      "Loading vocabulary from vocab_1000.pkl...\n",
      "Getting Bags of SIFTs (SIFT step: 5, fast: True, vocab size: 1000)...\n",
      "BoS feature extraction took 123.06 seconds. Features shape: (1500, 1000)\n",
      "  Running K-NN (k=5, metric='euclidean')...\n",
      "Classifying using 5-Nearest Neighbor(s) with metric: euclidean...\n",
      "  Accuracy for fold 3: 50.73%\n",
      "  Iteration 3 completed in 246.50 seconds.\n",
      "\n",
      "\n",
      "--- Cross-Validation Summary (bag_of_sifts & knn) ---\n",
      "Num iterations: 3 (Successful folds recorded: 3)\n",
      "Vocabulary file used/created: vocab_1000.pkl (Size: 1000)\n",
      "Mean Accuracy: 51.84%\n",
      "Std Dev Accuracy: 0.82%\n",
      "Individual accuracies: ['52.67%', '52.13%', '50.73%']\n"
     ]
    },
    {
     "data": {
      "text/plain": [
       "(0.5184444444444445,\n",
       " 0.008152860590152947,\n",
       " [0.5266666666666666, 0.5213333333333333, 0.5073333333333333])"
      ]
     },
     "execution_count": 20,
     "metadata": {},
     "output_type": "execute_result"
    }
   ],
   "source": [
    "print(\"\\n\\n===== EXPERIMENT 2: Bag of SIFT + KNN =====\")\n",
    "run_cross_validation(\n",
    "    data_path=DATA_PATH, categories=CATEGORIES, num_iterations=NUM_CV_ITERATIONS,\n",
    "    feature_type='bag_of_sifts', classifier_type='knn',\n",
    "    vocab_size_for_sift=1000,     \n",
    "    sift_step_vocab=10,          \n",
    "    sift_fast_vocab=True,\n",
    "    sift_step_features=5,         \n",
    "    sift_fast_features=True,\n",
    "    k_for_knn=5,\n",
    "    metric_for_knn='euclidean',\n",
    "    force_vocab_rebuild=False     \n",
    ")"
   ]
  },
  {
   "cell_type": "code",
   "execution_count": 21,
   "metadata": {},
   "outputs": [
    {
     "name": "stdout",
     "output_type": "stream",
     "text": [
      "\n",
      "\n",
      "===== EXPERIMENT 2: Bag of SIFT + KNN =====\n",
      "Collecting all image paths from '../data/[train|test]/[category_name]/' structure...\n",
      "Finished collecting and shuffling all image paths for each category.\n",
      "\n",
      "--- Vocabulary Handling for Bag of SIFT (Size: 1000) ---\n",
      "Target vocabulary file: vocab_1000.pkl\n",
      "Using existing vocabulary file: vocab_1000.pkl\n",
      "Successfully loaded existing vocabulary. Size: 1000\n",
      "\n",
      "--- Cross-Validation Iteration 1/3 ---\n",
      "  Iter 1: 1500 train imgs, 1500 test imgs.\n",
      "  Extracting BoS features using shared vocab: vocab_1000.pkl\n",
      "Loading vocabulary from vocab_1000.pkl...\n",
      "Getting Bags of SIFTs (SIFT step: 5, fast: True, vocab size: 1000)...\n",
      "BoS feature extraction took 125.86 seconds. Features shape: (1500, 1000)\n",
      "Loading vocabulary from vocab_1000.pkl...\n",
      "Getting Bags of SIFTs (SIFT step: 5, fast: True, vocab size: 1000)...\n",
      "BoS feature extraction took 124.08 seconds. Features shape: (1500, 1000)\n",
      "  Running K-NN (k=7, metric='euclidean')...\n",
      "Classifying using 7-Nearest Neighbor(s) with metric: euclidean...\n",
      "  Accuracy for fold 1: 53.20%\n",
      "  Iteration 1 completed in 250.27 seconds.\n",
      "\n",
      "--- Cross-Validation Iteration 2/3 ---\n",
      "  Iter 2: 1500 train imgs, 1500 test imgs.\n",
      "  Extracting BoS features using shared vocab: vocab_1000.pkl\n",
      "Loading vocabulary from vocab_1000.pkl...\n",
      "Getting Bags of SIFTs (SIFT step: 5, fast: True, vocab size: 1000)...\n",
      "BoS feature extraction took 122.61 seconds. Features shape: (1500, 1000)\n",
      "Loading vocabulary from vocab_1000.pkl...\n",
      "Getting Bags of SIFTs (SIFT step: 5, fast: True, vocab size: 1000)...\n",
      "BoS feature extraction took 124.28 seconds. Features shape: (1500, 1000)\n",
      "  Running K-NN (k=7, metric='euclidean')...\n",
      "Classifying using 7-Nearest Neighbor(s) with metric: euclidean...\n",
      "  Accuracy for fold 2: 51.73%\n",
      "  Iteration 2 completed in 247.21 seconds.\n",
      "\n",
      "--- Cross-Validation Iteration 3/3 ---\n",
      "  Iter 3: 1500 train imgs, 1500 test imgs.\n",
      "  Extracting BoS features using shared vocab: vocab_1000.pkl\n",
      "Loading vocabulary from vocab_1000.pkl...\n",
      "Getting Bags of SIFTs (SIFT step: 5, fast: True, vocab size: 1000)...\n",
      "BoS feature extraction took 122.49 seconds. Features shape: (1500, 1000)\n",
      "Loading vocabulary from vocab_1000.pkl...\n",
      "Getting Bags of SIFTs (SIFT step: 5, fast: True, vocab size: 1000)...\n",
      "BoS feature extraction took 121.29 seconds. Features shape: (1500, 1000)\n",
      "  Running K-NN (k=7, metric='euclidean')...\n",
      "Classifying using 7-Nearest Neighbor(s) with metric: euclidean...\n",
      "  Accuracy for fold 3: 49.40%\n",
      "  Iteration 3 completed in 244.12 seconds.\n",
      "\n",
      "\n",
      "--- Cross-Validation Summary (bag_of_sifts & knn) ---\n",
      "Num iterations: 3 (Successful folds recorded: 3)\n",
      "Vocabulary file used/created: vocab_1000.pkl (Size: 1000)\n",
      "Mean Accuracy: 51.44%\n",
      "Std Dev Accuracy: 1.56%\n",
      "Individual accuracies: ['53.20%', '51.73%', '49.40%']\n"
     ]
    },
    {
     "data": {
      "text/plain": [
       "(0.5144444444444444, 0.015647348215363517, [0.532, 0.5173333333333333, 0.494])"
      ]
     },
     "execution_count": 21,
     "metadata": {},
     "output_type": "execute_result"
    }
   ],
   "source": [
    "print(\"\\n\\n===== EXPERIMENT 2: Bag of SIFT + KNN =====\")\n",
    "run_cross_validation(\n",
    "    data_path=DATA_PATH, categories=CATEGORIES, num_iterations=NUM_CV_ITERATIONS,\n",
    "    feature_type='bag_of_sifts', classifier_type='knn',\n",
    "    vocab_size_for_sift=1000,     \n",
    "    sift_step_vocab=10,          \n",
    "    sift_fast_vocab=True,\n",
    "    sift_step_features=5,         \n",
    "    sift_fast_features=True,\n",
    "    k_for_knn=7,\n",
    "    metric_for_knn='euclidean',\n",
    "    force_vocab_rebuild=False     \n",
    ")"
   ]
  },
  {
   "cell_type": "markdown",
   "metadata": {},
   "source": [
    "---\n",
    "\n",
    "---"
   ]
  },
  {
   "cell_type": "code",
   "execution_count": 22,
   "metadata": {},
   "outputs": [
    {
     "name": "stdout",
     "output_type": "stream",
     "text": [
      "\n",
      "\n",
      "===== EXPERIMENT 3: Bag of SIFT + SVM =====\n",
      "Collecting all image paths from '../data/[train|test]/[category_name]/' structure...\n",
      "Finished collecting and shuffling all image paths for each category.\n",
      "\n",
      "--- Vocabulary Handling for Bag of SIFT (Size: 10) ---\n",
      "Target vocabulary file: vocab_10.pkl\n",
      "Using existing vocabulary file: vocab_10.pkl\n",
      "Successfully loaded existing vocabulary. Size: 10\n",
      "\n",
      "--- Cross-Validation Iteration 1/3 ---\n",
      "  Iter 1: 1500 train imgs, 1500 test imgs.\n",
      "  Extracting BoS features using shared vocab: vocab_10.pkl\n",
      "Loading vocabulary from vocab_10.pkl...\n",
      "Getting Bags of SIFTs (SIFT step: 5, fast: True, vocab size: 10)...\n",
      "BoS feature extraction took 15.16 seconds. Features shape: (1500, 10)\n",
      "Loading vocabulary from vocab_10.pkl...\n",
      "Getting Bags of SIFTs (SIFT step: 5, fast: True, vocab size: 10)...\n",
      "BoS feature extraction took 15.16 seconds. Features shape: (1500, 10)\n",
      "  Running SVM (C=7.0)...\n",
      "Training and classifying with 1-vs-all Linear SVMs (C=7.0)...\n",
      "Training 15 1-vs-all SVMs...\n",
      "Predicting categories using trained SVMs...\n",
      "  Accuracy for fold 1: 33.00%\n",
      "  Iteration 1 completed in 30.40 seconds.\n",
      "\n",
      "--- Cross-Validation Iteration 2/3 ---\n",
      "  Iter 2: 1500 train imgs, 1500 test imgs.\n",
      "  Extracting BoS features using shared vocab: vocab_10.pkl\n",
      "Loading vocabulary from vocab_10.pkl...\n",
      "Getting Bags of SIFTs (SIFT step: 5, fast: True, vocab size: 10)...\n"
     ]
    },
    {
     "name": "stderr",
     "output_type": "stream",
     "text": [
      "/home/stu_12310401/miniconda3/envs/assignment3/lib/python3.9/site-packages/sklearn/svm/_base.py:1249: ConvergenceWarning: Liblinear failed to converge, increase the number of iterations.\n",
      "  warnings.warn(\n",
      "/home/stu_12310401/miniconda3/envs/assignment3/lib/python3.9/site-packages/sklearn/svm/_base.py:1249: ConvergenceWarning: Liblinear failed to converge, increase the number of iterations.\n",
      "  warnings.warn(\n",
      "/home/stu_12310401/miniconda3/envs/assignment3/lib/python3.9/site-packages/sklearn/svm/_base.py:1249: ConvergenceWarning: Liblinear failed to converge, increase the number of iterations.\n",
      "  warnings.warn(\n"
     ]
    },
    {
     "name": "stdout",
     "output_type": "stream",
     "text": [
      "BoS feature extraction took 15.18 seconds. Features shape: (1500, 10)\n",
      "Loading vocabulary from vocab_10.pkl...\n",
      "Getting Bags of SIFTs (SIFT step: 5, fast: True, vocab size: 10)...\n",
      "BoS feature extraction took 15.17 seconds. Features shape: (1500, 10)\n",
      "  Running SVM (C=7.0)...\n",
      "Training and classifying with 1-vs-all Linear SVMs (C=7.0)...\n",
      "Training 15 1-vs-all SVMs...\n",
      "Predicting categories using trained SVMs...\n",
      "  Accuracy for fold 2: 36.80%\n",
      "  Iteration 2 completed in 30.43 seconds.\n",
      "\n",
      "--- Cross-Validation Iteration 3/3 ---\n",
      "  Iter 3: 1500 train imgs, 1500 test imgs.\n",
      "  Extracting BoS features using shared vocab: vocab_10.pkl\n",
      "Loading vocabulary from vocab_10.pkl...\n",
      "Getting Bags of SIFTs (SIFT step: 5, fast: True, vocab size: 10)...\n"
     ]
    },
    {
     "name": "stderr",
     "output_type": "stream",
     "text": [
      "/home/stu_12310401/miniconda3/envs/assignment3/lib/python3.9/site-packages/sklearn/svm/_base.py:1249: ConvergenceWarning: Liblinear failed to converge, increase the number of iterations.\n",
      "  warnings.warn(\n"
     ]
    },
    {
     "name": "stdout",
     "output_type": "stream",
     "text": [
      "BoS feature extraction took 15.16 seconds. Features shape: (1500, 10)\n",
      "Loading vocabulary from vocab_10.pkl...\n",
      "Getting Bags of SIFTs (SIFT step: 5, fast: True, vocab size: 10)...\n",
      "BoS feature extraction took 15.18 seconds. Features shape: (1500, 10)\n",
      "  Running SVM (C=7.0)...\n",
      "Training and classifying with 1-vs-all Linear SVMs (C=7.0)...\n",
      "Training 15 1-vs-all SVMs...\n",
      "Predicting categories using trained SVMs...\n",
      "  Accuracy for fold 3: 38.53%\n",
      "  Iteration 3 completed in 30.42 seconds.\n",
      "\n",
      "\n",
      "--- Cross-Validation Summary (bag_of_sifts & svm) ---\n",
      "Num iterations: 3 (Successful folds recorded: 3)\n",
      "Vocabulary file used/created: vocab_10.pkl (Size: 10)\n",
      "Mean Accuracy: 36.11%\n",
      "Std Dev Accuracy: 2.31%\n",
      "Individual accuracies: ['33.00%', '36.80%', '38.53%']\n"
     ]
    },
    {
     "name": "stderr",
     "output_type": "stream",
     "text": [
      "/home/stu_12310401/miniconda3/envs/assignment3/lib/python3.9/site-packages/sklearn/svm/_base.py:1249: ConvergenceWarning: Liblinear failed to converge, increase the number of iterations.\n",
      "  warnings.warn(\n",
      "/home/stu_12310401/miniconda3/envs/assignment3/lib/python3.9/site-packages/sklearn/svm/_base.py:1249: ConvergenceWarning: Liblinear failed to converge, increase the number of iterations.\n",
      "  warnings.warn(\n"
     ]
    },
    {
     "data": {
      "text/plain": [
       "(0.3611111111111111, 0.023108974260187855, [0.33, 0.368, 0.38533333333333336])"
      ]
     },
     "execution_count": 22,
     "metadata": {},
     "output_type": "execute_result"
    }
   ],
   "source": [
    "print(\"\\n\\n===== EXPERIMENT 3: Bag of SIFT + SVM =====\")\n",
    "run_cross_validation(\n",
    "    data_path=DATA_PATH, categories=CATEGORIES, num_iterations=NUM_CV_ITERATIONS,\n",
    "    feature_type='bag_of_sifts', classifier_type='svm',\n",
    "    vocab_size_for_sift=10,      \n",
    "    sift_step_vocab=10,           \n",
    "    sift_fast_vocab=True,\n",
    "    sift_step_features=5,\n",
    "    sift_fast_features=True,\n",
    "    svm_c_value=7.0              \n",
    ")"
   ]
  },
  {
   "cell_type": "code",
   "execution_count": null,
   "metadata": {},
   "outputs": [
    {
     "name": "stdout",
     "output_type": "stream",
     "text": [
      "\n",
      "\n",
      "===== EXPERIMENT 3: Bag of SIFT + SVM =====\n",
      "Collecting all image paths from '../data/[train|test]/[category_name]/' structure...\n",
      "Finished collecting and shuffling all image paths for each category.\n",
      "\n",
      "--- Vocabulary Handling for Bag of SIFT (Size: 50) ---\n",
      "Target vocabulary file: vocab_50.pkl\n",
      "Using existing vocabulary file: vocab_50.pkl\n",
      "Successfully loaded existing vocabulary. Size: 50\n",
      "\n",
      "--- Cross-Validation Iteration 1/3 ---\n",
      "  Iter 1: 1500 train imgs, 1500 test imgs.\n",
      "  Extracting BoS features using shared vocab: vocab_50.pkl\n",
      "Loading vocabulary from vocab_50.pkl...\n",
      "Getting Bags of SIFTs (SIFT step: 5, fast: True, vocab size: 50)...\n",
      "BoS feature extraction took 19.55 seconds. Features shape: (1500, 50)\n",
      "Loading vocabulary from vocab_50.pkl...\n",
      "Getting Bags of SIFTs (SIFT step: 5, fast: True, vocab size: 50)...\n",
      "BoS feature extraction took 19.44 seconds. Features shape: (1500, 50)\n",
      "  Running SVM (C=7.0)...\n",
      "Training and classifying with 1-vs-all Linear SVMs (C=7.0)...\n",
      "Training 15 1-vs-all SVMs...\n"
     ]
    },
    {
     "name": "stderr",
     "output_type": "stream",
     "text": [
      "/home/stu_12310401/miniconda3/envs/assignment3/lib/python3.9/site-packages/sklearn/svm/_base.py:1249: ConvergenceWarning: Liblinear failed to converge, increase the number of iterations.\n",
      "  warnings.warn(\n",
      "/home/stu_12310401/miniconda3/envs/assignment3/lib/python3.9/site-packages/sklearn/svm/_base.py:1249: ConvergenceWarning: Liblinear failed to converge, increase the number of iterations.\n",
      "  warnings.warn(\n",
      "/home/stu_12310401/miniconda3/envs/assignment3/lib/python3.9/site-packages/sklearn/svm/_base.py:1249: ConvergenceWarning: Liblinear failed to converge, increase the number of iterations.\n",
      "  warnings.warn(\n",
      "/home/stu_12310401/miniconda3/envs/assignment3/lib/python3.9/site-packages/sklearn/svm/_base.py:1249: ConvergenceWarning: Liblinear failed to converge, increase the number of iterations.\n",
      "  warnings.warn(\n",
      "/home/stu_12310401/miniconda3/envs/assignment3/lib/python3.9/site-packages/sklearn/svm/_base.py:1249: ConvergenceWarning: Liblinear failed to converge, increase the number of iterations.\n",
      "  warnings.warn(\n",
      "/home/stu_12310401/miniconda3/envs/assignment3/lib/python3.9/site-packages/sklearn/svm/_base.py:1249: ConvergenceWarning: Liblinear failed to converge, increase the number of iterations.\n",
      "  warnings.warn(\n",
      "/home/stu_12310401/miniconda3/envs/assignment3/lib/python3.9/site-packages/sklearn/svm/_base.py:1249: ConvergenceWarning: Liblinear failed to converge, increase the number of iterations.\n",
      "  warnings.warn(\n",
      "/home/stu_12310401/miniconda3/envs/assignment3/lib/python3.9/site-packages/sklearn/svm/_base.py:1249: ConvergenceWarning: Liblinear failed to converge, increase the number of iterations.\n",
      "  warnings.warn(\n",
      "/home/stu_12310401/miniconda3/envs/assignment3/lib/python3.9/site-packages/sklearn/svm/_base.py:1249: ConvergenceWarning: Liblinear failed to converge, increase the number of iterations.\n",
      "  warnings.warn(\n",
      "/home/stu_12310401/miniconda3/envs/assignment3/lib/python3.9/site-packages/sklearn/svm/_base.py:1249: ConvergenceWarning: Liblinear failed to converge, increase the number of iterations.\n",
      "  warnings.warn(\n"
     ]
    },
    {
     "name": "stdout",
     "output_type": "stream",
     "text": [
      "Predicting categories using trained SVMs...\n",
      "  Accuracy for fold 1: 51.53%\n",
      "  Iteration 1 completed in 39.64 seconds.\n",
      "\n",
      "--- Cross-Validation Iteration 2/3 ---\n",
      "  Iter 2: 1500 train imgs, 1500 test imgs.\n",
      "  Extracting BoS features using shared vocab: vocab_50.pkl\n",
      "Loading vocabulary from vocab_50.pkl...\n",
      "Getting Bags of SIFTs (SIFT step: 5, fast: True, vocab size: 50)...\n",
      "BoS feature extraction took 19.44 seconds. Features shape: (1500, 50)\n",
      "Loading vocabulary from vocab_50.pkl...\n",
      "Getting Bags of SIFTs (SIFT step: 5, fast: True, vocab size: 50)...\n",
      "BoS feature extraction took 19.52 seconds. Features shape: (1500, 50)\n",
      "  Running SVM (C=7.0)...\n",
      "Training and classifying with 1-vs-all Linear SVMs (C=7.0)...\n",
      "Training 15 1-vs-all SVMs...\n"
     ]
    },
    {
     "name": "stderr",
     "output_type": "stream",
     "text": [
      "/home/stu_12310401/miniconda3/envs/assignment3/lib/python3.9/site-packages/sklearn/svm/_base.py:1249: ConvergenceWarning: Liblinear failed to converge, increase the number of iterations.\n",
      "  warnings.warn(\n",
      "/home/stu_12310401/miniconda3/envs/assignment3/lib/python3.9/site-packages/sklearn/svm/_base.py:1249: ConvergenceWarning: Liblinear failed to converge, increase the number of iterations.\n",
      "  warnings.warn(\n",
      "/home/stu_12310401/miniconda3/envs/assignment3/lib/python3.9/site-packages/sklearn/svm/_base.py:1249: ConvergenceWarning: Liblinear failed to converge, increase the number of iterations.\n",
      "  warnings.warn(\n",
      "/home/stu_12310401/miniconda3/envs/assignment3/lib/python3.9/site-packages/sklearn/svm/_base.py:1249: ConvergenceWarning: Liblinear failed to converge, increase the number of iterations.\n",
      "  warnings.warn(\n",
      "/home/stu_12310401/miniconda3/envs/assignment3/lib/python3.9/site-packages/sklearn/svm/_base.py:1249: ConvergenceWarning: Liblinear failed to converge, increase the number of iterations.\n",
      "  warnings.warn(\n",
      "/home/stu_12310401/miniconda3/envs/assignment3/lib/python3.9/site-packages/sklearn/svm/_base.py:1249: ConvergenceWarning: Liblinear failed to converge, increase the number of iterations.\n",
      "  warnings.warn(\n",
      "/home/stu_12310401/miniconda3/envs/assignment3/lib/python3.9/site-packages/sklearn/svm/_base.py:1249: ConvergenceWarning: Liblinear failed to converge, increase the number of iterations.\n",
      "  warnings.warn(\n",
      "/home/stu_12310401/miniconda3/envs/assignment3/lib/python3.9/site-packages/sklearn/svm/_base.py:1249: ConvergenceWarning: Liblinear failed to converge, increase the number of iterations.\n",
      "  warnings.warn(\n",
      "/home/stu_12310401/miniconda3/envs/assignment3/lib/python3.9/site-packages/sklearn/svm/_base.py:1249: ConvergenceWarning: Liblinear failed to converge, increase the number of iterations.\n",
      "  warnings.warn(\n",
      "/home/stu_12310401/miniconda3/envs/assignment3/lib/python3.9/site-packages/sklearn/svm/_base.py:1249: ConvergenceWarning: Liblinear failed to converge, increase the number of iterations.\n",
      "  warnings.warn(\n",
      "/home/stu_12310401/miniconda3/envs/assignment3/lib/python3.9/site-packages/sklearn/svm/_base.py:1249: ConvergenceWarning: Liblinear failed to converge, increase the number of iterations.\n",
      "  warnings.warn(\n"
     ]
    },
    {
     "name": "stdout",
     "output_type": "stream",
     "text": [
      "Predicting categories using trained SVMs...\n",
      "  Accuracy for fold 2: 54.07%\n",
      "  Iteration 2 completed in 39.57 seconds.\n",
      "\n",
      "--- Cross-Validation Iteration 3/3 ---\n",
      "  Iter 3: 1500 train imgs, 1500 test imgs.\n",
      "  Extracting BoS features using shared vocab: vocab_50.pkl\n",
      "Loading vocabulary from vocab_50.pkl...\n",
      "Getting Bags of SIFTs (SIFT step: 5, fast: True, vocab size: 50)...\n",
      "BoS feature extraction took 19.46 seconds. Features shape: (1500, 50)\n",
      "Loading vocabulary from vocab_50.pkl...\n",
      "Getting Bags of SIFTs (SIFT step: 5, fast: True, vocab size: 50)...\n",
      "BoS feature extraction took 19.42 seconds. Features shape: (1500, 50)\n",
      "  Running SVM (C=7.0)...\n",
      "Training and classifying with 1-vs-all Linear SVMs (C=7.0)...\n",
      "Training 15 1-vs-all SVMs...\n"
     ]
    },
    {
     "name": "stderr",
     "output_type": "stream",
     "text": [
      "/home/stu_12310401/miniconda3/envs/assignment3/lib/python3.9/site-packages/sklearn/svm/_base.py:1249: ConvergenceWarning: Liblinear failed to converge, increase the number of iterations.\n",
      "  warnings.warn(\n",
      "/home/stu_12310401/miniconda3/envs/assignment3/lib/python3.9/site-packages/sklearn/svm/_base.py:1249: ConvergenceWarning: Liblinear failed to converge, increase the number of iterations.\n",
      "  warnings.warn(\n",
      "/home/stu_12310401/miniconda3/envs/assignment3/lib/python3.9/site-packages/sklearn/svm/_base.py:1249: ConvergenceWarning: Liblinear failed to converge, increase the number of iterations.\n",
      "  warnings.warn(\n",
      "/home/stu_12310401/miniconda3/envs/assignment3/lib/python3.9/site-packages/sklearn/svm/_base.py:1249: ConvergenceWarning: Liblinear failed to converge, increase the number of iterations.\n",
      "  warnings.warn(\n",
      "/home/stu_12310401/miniconda3/envs/assignment3/lib/python3.9/site-packages/sklearn/svm/_base.py:1249: ConvergenceWarning: Liblinear failed to converge, increase the number of iterations.\n",
      "  warnings.warn(\n",
      "/home/stu_12310401/miniconda3/envs/assignment3/lib/python3.9/site-packages/sklearn/svm/_base.py:1249: ConvergenceWarning: Liblinear failed to converge, increase the number of iterations.\n",
      "  warnings.warn(\n",
      "/home/stu_12310401/miniconda3/envs/assignment3/lib/python3.9/site-packages/sklearn/svm/_base.py:1249: ConvergenceWarning: Liblinear failed to converge, increase the number of iterations.\n",
      "  warnings.warn(\n"
     ]
    },
    {
     "name": "stdout",
     "output_type": "stream",
     "text": [
      "Predicting categories using trained SVMs...\n",
      "  Accuracy for fold 3: 50.67%\n",
      "  Iteration 3 completed in 39.47 seconds.\n",
      "\n",
      "\n",
      "--- Cross-Validation Summary (bag_of_sifts & svm) ---\n",
      "Num iterations: 3 (Successful folds recorded: 3)\n",
      "Vocabulary file used/created: vocab_50.pkl (Size: 50)\n",
      "Mean Accuracy: 52.09%\n",
      "Std Dev Accuracy: 1.44%\n",
      "Individual accuracies: ['51.53%', '54.07%', '50.67%']\n"
     ]
    },
    {
     "name": "stderr",
     "output_type": "stream",
     "text": [
      "/home/stu_12310401/miniconda3/envs/assignment3/lib/python3.9/site-packages/sklearn/svm/_base.py:1249: ConvergenceWarning: Liblinear failed to converge, increase the number of iterations.\n",
      "  warnings.warn(\n",
      "/home/stu_12310401/miniconda3/envs/assignment3/lib/python3.9/site-packages/sklearn/svm/_base.py:1249: ConvergenceWarning: Liblinear failed to converge, increase the number of iterations.\n",
      "  warnings.warn(\n",
      "/home/stu_12310401/miniconda3/envs/assignment3/lib/python3.9/site-packages/sklearn/svm/_base.py:1249: ConvergenceWarning: Liblinear failed to converge, increase the number of iterations.\n",
      "  warnings.warn(\n"
     ]
    },
    {
     "data": {
      "text/plain": [
       "(0.520888888888889,\n",
       " 0.014425628770771066,\n",
       " [0.5153333333333333, 0.5406666666666666, 0.5066666666666667])"
      ]
     },
     "execution_count": 23,
     "metadata": {},
     "output_type": "execute_result"
    }
   ],
   "source": [
    "print(\"\\n\\n===== EXPERIMENT 3: Bag of SIFT + SVM =====\")\n",
    "run_cross_validation(\n",
    "    data_path=DATA_PATH, categories=CATEGORIES, num_iterations=NUM_CV_ITERATIONS,\n",
    "    feature_type='bag_of_sifts', classifier_type='svm',\n",
    "    vocab_size_for_sift=50,      \n",
    "    sift_step_vocab=10,            \n",
    "    sift_fast_vocab=True,\n",
    "    sift_step_features=5,\n",
    "    sift_fast_features=True,\n",
    "    svm_c_value=7.0               \n",
    ")"
   ]
  },
  {
   "cell_type": "code",
   "execution_count": null,
   "metadata": {},
   "outputs": [
    {
     "name": "stdout",
     "output_type": "stream",
     "text": [
      "\n",
      "\n",
      "===== EXPERIMENT 3: Bag of SIFT + SVM =====\n",
      "Collecting all image paths from '../data/[train|test]/[category_name]/' structure...\n",
      "Finished collecting and shuffling all image paths for each category.\n",
      "\n",
      "--- Vocabulary Handling for Bag of SIFT (Size: 100) ---\n",
      "Target vocabulary file: vocab_100.pkl\n",
      "Using existing vocabulary file: vocab_100.pkl\n",
      "Successfully loaded existing vocabulary. Size: 100\n",
      "\n",
      "--- Cross-Validation Iteration 1/3 ---\n",
      "  Iter 1: 1500 train imgs, 1500 test imgs.\n",
      "  Extracting BoS features using shared vocab: vocab_100.pkl\n",
      "Loading vocabulary from vocab_100.pkl...\n",
      "Getting Bags of SIFTs (SIFT step: 5, fast: True, vocab size: 100)...\n",
      "BoS feature extraction took 24.92 seconds. Features shape: (1500, 100)\n",
      "Loading vocabulary from vocab_100.pkl...\n",
      "Getting Bags of SIFTs (SIFT step: 5, fast: True, vocab size: 100)...\n",
      "BoS feature extraction took 24.83 seconds. Features shape: (1500, 100)\n",
      "  Running SVM (C=7.0)...\n",
      "Training and classifying with 1-vs-all Linear SVMs (C=7.0)...\n",
      "Training 15 1-vs-all SVMs...\n"
     ]
    },
    {
     "name": "stderr",
     "output_type": "stream",
     "text": [
      "/home/stu_12310401/miniconda3/envs/assignment3/lib/python3.9/site-packages/sklearn/svm/_base.py:1249: ConvergenceWarning: Liblinear failed to converge, increase the number of iterations.\n",
      "  warnings.warn(\n",
      "/home/stu_12310401/miniconda3/envs/assignment3/lib/python3.9/site-packages/sklearn/svm/_base.py:1249: ConvergenceWarning: Liblinear failed to converge, increase the number of iterations.\n",
      "  warnings.warn(\n",
      "/home/stu_12310401/miniconda3/envs/assignment3/lib/python3.9/site-packages/sklearn/svm/_base.py:1249: ConvergenceWarning: Liblinear failed to converge, increase the number of iterations.\n",
      "  warnings.warn(\n",
      "/home/stu_12310401/miniconda3/envs/assignment3/lib/python3.9/site-packages/sklearn/svm/_base.py:1249: ConvergenceWarning: Liblinear failed to converge, increase the number of iterations.\n",
      "  warnings.warn(\n",
      "/home/stu_12310401/miniconda3/envs/assignment3/lib/python3.9/site-packages/sklearn/svm/_base.py:1249: ConvergenceWarning: Liblinear failed to converge, increase the number of iterations.\n",
      "  warnings.warn(\n",
      "/home/stu_12310401/miniconda3/envs/assignment3/lib/python3.9/site-packages/sklearn/svm/_base.py:1249: ConvergenceWarning: Liblinear failed to converge, increase the number of iterations.\n",
      "  warnings.warn(\n",
      "/home/stu_12310401/miniconda3/envs/assignment3/lib/python3.9/site-packages/sklearn/svm/_base.py:1249: ConvergenceWarning: Liblinear failed to converge, increase the number of iterations.\n",
      "  warnings.warn(\n",
      "/home/stu_12310401/miniconda3/envs/assignment3/lib/python3.9/site-packages/sklearn/svm/_base.py:1249: ConvergenceWarning: Liblinear failed to converge, increase the number of iterations.\n",
      "  warnings.warn(\n",
      "/home/stu_12310401/miniconda3/envs/assignment3/lib/python3.9/site-packages/sklearn/svm/_base.py:1249: ConvergenceWarning: Liblinear failed to converge, increase the number of iterations.\n",
      "  warnings.warn(\n",
      "/home/stu_12310401/miniconda3/envs/assignment3/lib/python3.9/site-packages/sklearn/svm/_base.py:1249: ConvergenceWarning: Liblinear failed to converge, increase the number of iterations.\n",
      "  warnings.warn(\n",
      "/home/stu_12310401/miniconda3/envs/assignment3/lib/python3.9/site-packages/sklearn/svm/_base.py:1249: ConvergenceWarning: Liblinear failed to converge, increase the number of iterations.\n",
      "  warnings.warn(\n",
      "/home/stu_12310401/miniconda3/envs/assignment3/lib/python3.9/site-packages/sklearn/svm/_base.py:1249: ConvergenceWarning: Liblinear failed to converge, increase the number of iterations.\n",
      "  warnings.warn(\n",
      "/home/stu_12310401/miniconda3/envs/assignment3/lib/python3.9/site-packages/sklearn/svm/_base.py:1249: ConvergenceWarning: Liblinear failed to converge, increase the number of iterations.\n",
      "  warnings.warn(\n"
     ]
    },
    {
     "name": "stdout",
     "output_type": "stream",
     "text": [
      "Predicting categories using trained SVMs...\n",
      "  Accuracy for fold 1: 57.00%\n",
      "  Iteration 1 completed in 50.66 seconds.\n",
      "\n",
      "--- Cross-Validation Iteration 2/3 ---\n",
      "  Iter 2: 1500 train imgs, 1500 test imgs.\n",
      "  Extracting BoS features using shared vocab: vocab_100.pkl\n",
      "Loading vocabulary from vocab_100.pkl...\n",
      "Getting Bags of SIFTs (SIFT step: 5, fast: True, vocab size: 100)...\n",
      "BoS feature extraction took 24.83 seconds. Features shape: (1500, 100)\n",
      "Loading vocabulary from vocab_100.pkl...\n",
      "Getting Bags of SIFTs (SIFT step: 5, fast: True, vocab size: 100)...\n",
      "BoS feature extraction took 24.83 seconds. Features shape: (1500, 100)\n",
      "  Running SVM (C=7.0)...\n",
      "Training and classifying with 1-vs-all Linear SVMs (C=7.0)...\n",
      "Training 15 1-vs-all SVMs...\n"
     ]
    },
    {
     "name": "stderr",
     "output_type": "stream",
     "text": [
      "/home/stu_12310401/miniconda3/envs/assignment3/lib/python3.9/site-packages/sklearn/svm/_base.py:1249: ConvergenceWarning: Liblinear failed to converge, increase the number of iterations.\n",
      "  warnings.warn(\n",
      "/home/stu_12310401/miniconda3/envs/assignment3/lib/python3.9/site-packages/sklearn/svm/_base.py:1249: ConvergenceWarning: Liblinear failed to converge, increase the number of iterations.\n",
      "  warnings.warn(\n",
      "/home/stu_12310401/miniconda3/envs/assignment3/lib/python3.9/site-packages/sklearn/svm/_base.py:1249: ConvergenceWarning: Liblinear failed to converge, increase the number of iterations.\n",
      "  warnings.warn(\n",
      "/home/stu_12310401/miniconda3/envs/assignment3/lib/python3.9/site-packages/sklearn/svm/_base.py:1249: ConvergenceWarning: Liblinear failed to converge, increase the number of iterations.\n",
      "  warnings.warn(\n",
      "/home/stu_12310401/miniconda3/envs/assignment3/lib/python3.9/site-packages/sklearn/svm/_base.py:1249: ConvergenceWarning: Liblinear failed to converge, increase the number of iterations.\n",
      "  warnings.warn(\n",
      "/home/stu_12310401/miniconda3/envs/assignment3/lib/python3.9/site-packages/sklearn/svm/_base.py:1249: ConvergenceWarning: Liblinear failed to converge, increase the number of iterations.\n",
      "  warnings.warn(\n",
      "/home/stu_12310401/miniconda3/envs/assignment3/lib/python3.9/site-packages/sklearn/svm/_base.py:1249: ConvergenceWarning: Liblinear failed to converge, increase the number of iterations.\n",
      "  warnings.warn(\n",
      "/home/stu_12310401/miniconda3/envs/assignment3/lib/python3.9/site-packages/sklearn/svm/_base.py:1249: ConvergenceWarning: Liblinear failed to converge, increase the number of iterations.\n",
      "  warnings.warn(\n",
      "/home/stu_12310401/miniconda3/envs/assignment3/lib/python3.9/site-packages/sklearn/svm/_base.py:1249: ConvergenceWarning: Liblinear failed to converge, increase the number of iterations.\n",
      "  warnings.warn(\n",
      "/home/stu_12310401/miniconda3/envs/assignment3/lib/python3.9/site-packages/sklearn/svm/_base.py:1249: ConvergenceWarning: Liblinear failed to converge, increase the number of iterations.\n",
      "  warnings.warn(\n",
      "/home/stu_12310401/miniconda3/envs/assignment3/lib/python3.9/site-packages/sklearn/svm/_base.py:1249: ConvergenceWarning: Liblinear failed to converge, increase the number of iterations.\n",
      "  warnings.warn(\n",
      "/home/stu_12310401/miniconda3/envs/assignment3/lib/python3.9/site-packages/sklearn/svm/_base.py:1249: ConvergenceWarning: Liblinear failed to converge, increase the number of iterations.\n",
      "  warnings.warn(\n"
     ]
    },
    {
     "name": "stdout",
     "output_type": "stream",
     "text": [
      "Predicting categories using trained SVMs...\n",
      "  Accuracy for fold 2: 55.73%\n",
      "  Iteration 2 completed in 50.52 seconds.\n",
      "\n",
      "--- Cross-Validation Iteration 3/3 ---\n",
      "  Iter 3: 1500 train imgs, 1500 test imgs.\n",
      "  Extracting BoS features using shared vocab: vocab_100.pkl\n",
      "Loading vocabulary from vocab_100.pkl...\n",
      "Getting Bags of SIFTs (SIFT step: 5, fast: True, vocab size: 100)...\n",
      "BoS feature extraction took 24.77 seconds. Features shape: (1500, 100)\n",
      "Loading vocabulary from vocab_100.pkl...\n",
      "Getting Bags of SIFTs (SIFT step: 5, fast: True, vocab size: 100)...\n",
      "BoS feature extraction took 24.78 seconds. Features shape: (1500, 100)\n",
      "  Running SVM (C=7.0)...\n",
      "Training and classifying with 1-vs-all Linear SVMs (C=7.0)...\n",
      "Training 15 1-vs-all SVMs...\n"
     ]
    },
    {
     "name": "stderr",
     "output_type": "stream",
     "text": [
      "/home/stu_12310401/miniconda3/envs/assignment3/lib/python3.9/site-packages/sklearn/svm/_base.py:1249: ConvergenceWarning: Liblinear failed to converge, increase the number of iterations.\n",
      "  warnings.warn(\n",
      "/home/stu_12310401/miniconda3/envs/assignment3/lib/python3.9/site-packages/sklearn/svm/_base.py:1249: ConvergenceWarning: Liblinear failed to converge, increase the number of iterations.\n",
      "  warnings.warn(\n",
      "/home/stu_12310401/miniconda3/envs/assignment3/lib/python3.9/site-packages/sklearn/svm/_base.py:1249: ConvergenceWarning: Liblinear failed to converge, increase the number of iterations.\n",
      "  warnings.warn(\n",
      "/home/stu_12310401/miniconda3/envs/assignment3/lib/python3.9/site-packages/sklearn/svm/_base.py:1249: ConvergenceWarning: Liblinear failed to converge, increase the number of iterations.\n",
      "  warnings.warn(\n",
      "/home/stu_12310401/miniconda3/envs/assignment3/lib/python3.9/site-packages/sklearn/svm/_base.py:1249: ConvergenceWarning: Liblinear failed to converge, increase the number of iterations.\n",
      "  warnings.warn(\n",
      "/home/stu_12310401/miniconda3/envs/assignment3/lib/python3.9/site-packages/sklearn/svm/_base.py:1249: ConvergenceWarning: Liblinear failed to converge, increase the number of iterations.\n",
      "  warnings.warn(\n",
      "/home/stu_12310401/miniconda3/envs/assignment3/lib/python3.9/site-packages/sklearn/svm/_base.py:1249: ConvergenceWarning: Liblinear failed to converge, increase the number of iterations.\n",
      "  warnings.warn(\n",
      "/home/stu_12310401/miniconda3/envs/assignment3/lib/python3.9/site-packages/sklearn/svm/_base.py:1249: ConvergenceWarning: Liblinear failed to converge, increase the number of iterations.\n",
      "  warnings.warn(\n",
      "/home/stu_12310401/miniconda3/envs/assignment3/lib/python3.9/site-packages/sklearn/svm/_base.py:1249: ConvergenceWarning: Liblinear failed to converge, increase the number of iterations.\n",
      "  warnings.warn(\n",
      "/home/stu_12310401/miniconda3/envs/assignment3/lib/python3.9/site-packages/sklearn/svm/_base.py:1249: ConvergenceWarning: Liblinear failed to converge, increase the number of iterations.\n",
      "  warnings.warn(\n",
      "/home/stu_12310401/miniconda3/envs/assignment3/lib/python3.9/site-packages/sklearn/svm/_base.py:1249: ConvergenceWarning: Liblinear failed to converge, increase the number of iterations.\n",
      "  warnings.warn(\n"
     ]
    },
    {
     "name": "stdout",
     "output_type": "stream",
     "text": [
      "Predicting categories using trained SVMs...\n",
      "  Accuracy for fold 3: 57.33%\n",
      "  Iteration 3 completed in 50.44 seconds.\n",
      "\n",
      "\n",
      "--- Cross-Validation Summary (bag_of_sifts & svm) ---\n",
      "Num iterations: 3 (Successful folds recorded: 3)\n",
      "Vocabulary file used/created: vocab_100.pkl (Size: 100)\n",
      "Mean Accuracy: 56.69%\n",
      "Std Dev Accuracy: 0.69%\n",
      "Individual accuracies: ['57.00%', '55.73%', '57.33%']\n"
     ]
    },
    {
     "name": "stderr",
     "output_type": "stream",
     "text": [
      "/home/stu_12310401/miniconda3/envs/assignment3/lib/python3.9/site-packages/sklearn/svm/_base.py:1249: ConvergenceWarning: Liblinear failed to converge, increase the number of iterations.\n",
      "  warnings.warn(\n",
      "/home/stu_12310401/miniconda3/envs/assignment3/lib/python3.9/site-packages/sklearn/svm/_base.py:1249: ConvergenceWarning: Liblinear failed to converge, increase the number of iterations.\n",
      "  warnings.warn(\n"
     ]
    },
    {
     "data": {
      "text/plain": [
       "(0.5668888888888889,\n",
       " 0.006892472186342583,\n",
       " [0.57, 0.5573333333333333, 0.5733333333333334])"
      ]
     },
     "execution_count": 24,
     "metadata": {},
     "output_type": "execute_result"
    }
   ],
   "source": [
    "print(\"\\n\\n===== EXPERIMENT 3: Bag of SIFT + SVM =====\")\n",
    "run_cross_validation(\n",
    "    data_path=DATA_PATH, categories=CATEGORIES, num_iterations=NUM_CV_ITERATIONS,\n",
    "    feature_type='bag_of_sifts', classifier_type='svm',\n",
    "    vocab_size_for_sift=100,     \n",
    "    sift_step_vocab=10,            \n",
    "    sift_fast_vocab=True,\n",
    "    sift_step_features=5,\n",
    "    sift_fast_features=True,\n",
    "    svm_c_value=7.0               \n",
    ")"
   ]
  },
  {
   "cell_type": "code",
   "execution_count": 25,
   "metadata": {},
   "outputs": [
    {
     "name": "stdout",
     "output_type": "stream",
     "text": [
      "\n",
      "\n",
      "===== EXPERIMENT 3: Bag of SIFT + SVM =====\n",
      "Collecting all image paths from '../data/[train|test]/[category_name]/' structure...\n",
      "Finished collecting and shuffling all image paths for each category.\n",
      "\n",
      "--- Vocabulary Handling for Bag of SIFT (Size: 200) ---\n",
      "Target vocabulary file: vocab_200.pkl\n",
      "Using existing vocabulary file: vocab_200.pkl\n",
      "Successfully loaded existing vocabulary. Size: 200\n",
      "\n",
      "--- Cross-Validation Iteration 1/3 ---\n",
      "  Iter 1: 1500 train imgs, 1500 test imgs.\n",
      "  Extracting BoS features using shared vocab: vocab_200.pkl\n",
      "Loading vocabulary from vocab_200.pkl...\n",
      "Getting Bags of SIFTs (SIFT step: 5, fast: True, vocab size: 200)...\n",
      "BoS feature extraction took 35.56 seconds. Features shape: (1500, 200)\n",
      "Loading vocabulary from vocab_200.pkl...\n",
      "Getting Bags of SIFTs (SIFT step: 5, fast: True, vocab size: 200)...\n",
      "BoS feature extraction took 35.56 seconds. Features shape: (1500, 200)\n",
      "  Running SVM (C=7.0)...\n",
      "Training and classifying with 1-vs-all Linear SVMs (C=7.0)...\n",
      "Training 15 1-vs-all SVMs...\n"
     ]
    },
    {
     "name": "stderr",
     "output_type": "stream",
     "text": [
      "/home/stu_12310401/miniconda3/envs/assignment3/lib/python3.9/site-packages/sklearn/svm/_base.py:1249: ConvergenceWarning: Liblinear failed to converge, increase the number of iterations.\n",
      "  warnings.warn(\n",
      "/home/stu_12310401/miniconda3/envs/assignment3/lib/python3.9/site-packages/sklearn/svm/_base.py:1249: ConvergenceWarning: Liblinear failed to converge, increase the number of iterations.\n",
      "  warnings.warn(\n",
      "/home/stu_12310401/miniconda3/envs/assignment3/lib/python3.9/site-packages/sklearn/svm/_base.py:1249: ConvergenceWarning: Liblinear failed to converge, increase the number of iterations.\n",
      "  warnings.warn(\n",
      "/home/stu_12310401/miniconda3/envs/assignment3/lib/python3.9/site-packages/sklearn/svm/_base.py:1249: ConvergenceWarning: Liblinear failed to converge, increase the number of iterations.\n",
      "  warnings.warn(\n",
      "/home/stu_12310401/miniconda3/envs/assignment3/lib/python3.9/site-packages/sklearn/svm/_base.py:1249: ConvergenceWarning: Liblinear failed to converge, increase the number of iterations.\n",
      "  warnings.warn(\n",
      "/home/stu_12310401/miniconda3/envs/assignment3/lib/python3.9/site-packages/sklearn/svm/_base.py:1249: ConvergenceWarning: Liblinear failed to converge, increase the number of iterations.\n",
      "  warnings.warn(\n",
      "/home/stu_12310401/miniconda3/envs/assignment3/lib/python3.9/site-packages/sklearn/svm/_base.py:1249: ConvergenceWarning: Liblinear failed to converge, increase the number of iterations.\n",
      "  warnings.warn(\n",
      "/home/stu_12310401/miniconda3/envs/assignment3/lib/python3.9/site-packages/sklearn/svm/_base.py:1249: ConvergenceWarning: Liblinear failed to converge, increase the number of iterations.\n",
      "  warnings.warn(\n",
      "/home/stu_12310401/miniconda3/envs/assignment3/lib/python3.9/site-packages/sklearn/svm/_base.py:1249: ConvergenceWarning: Liblinear failed to converge, increase the number of iterations.\n",
      "  warnings.warn(\n",
      "/home/stu_12310401/miniconda3/envs/assignment3/lib/python3.9/site-packages/sklearn/svm/_base.py:1249: ConvergenceWarning: Liblinear failed to converge, increase the number of iterations.\n",
      "  warnings.warn(\n",
      "/home/stu_12310401/miniconda3/envs/assignment3/lib/python3.9/site-packages/sklearn/svm/_base.py:1249: ConvergenceWarning: Liblinear failed to converge, increase the number of iterations.\n",
      "  warnings.warn(\n",
      "/home/stu_12310401/miniconda3/envs/assignment3/lib/python3.9/site-packages/sklearn/svm/_base.py:1249: ConvergenceWarning: Liblinear failed to converge, increase the number of iterations.\n",
      "  warnings.warn(\n"
     ]
    },
    {
     "name": "stdout",
     "output_type": "stream",
     "text": [
      "Predicting categories using trained SVMs...\n",
      "  Accuracy for fold 1: 59.07%\n",
      "  Iteration 1 completed in 72.61 seconds.\n",
      "\n",
      "--- Cross-Validation Iteration 2/3 ---\n",
      "  Iter 2: 1500 train imgs, 1500 test imgs.\n",
      "  Extracting BoS features using shared vocab: vocab_200.pkl\n",
      "Loading vocabulary from vocab_200.pkl...\n",
      "Getting Bags of SIFTs (SIFT step: 5, fast: True, vocab size: 200)...\n",
      "BoS feature extraction took 35.39 seconds. Features shape: (1500, 200)\n",
      "Loading vocabulary from vocab_200.pkl...\n",
      "Getting Bags of SIFTs (SIFT step: 5, fast: True, vocab size: 200)...\n",
      "BoS feature extraction took 35.50 seconds. Features shape: (1500, 200)\n",
      "  Running SVM (C=7.0)...\n",
      "Training and classifying with 1-vs-all Linear SVMs (C=7.0)...\n",
      "Training 15 1-vs-all SVMs...\n"
     ]
    },
    {
     "name": "stderr",
     "output_type": "stream",
     "text": [
      "/home/stu_12310401/miniconda3/envs/assignment3/lib/python3.9/site-packages/sklearn/svm/_base.py:1249: ConvergenceWarning: Liblinear failed to converge, increase the number of iterations.\n",
      "  warnings.warn(\n",
      "/home/stu_12310401/miniconda3/envs/assignment3/lib/python3.9/site-packages/sklearn/svm/_base.py:1249: ConvergenceWarning: Liblinear failed to converge, increase the number of iterations.\n",
      "  warnings.warn(\n",
      "/home/stu_12310401/miniconda3/envs/assignment3/lib/python3.9/site-packages/sklearn/svm/_base.py:1249: ConvergenceWarning: Liblinear failed to converge, increase the number of iterations.\n",
      "  warnings.warn(\n",
      "/home/stu_12310401/miniconda3/envs/assignment3/lib/python3.9/site-packages/sklearn/svm/_base.py:1249: ConvergenceWarning: Liblinear failed to converge, increase the number of iterations.\n",
      "  warnings.warn(\n",
      "/home/stu_12310401/miniconda3/envs/assignment3/lib/python3.9/site-packages/sklearn/svm/_base.py:1249: ConvergenceWarning: Liblinear failed to converge, increase the number of iterations.\n",
      "  warnings.warn(\n",
      "/home/stu_12310401/miniconda3/envs/assignment3/lib/python3.9/site-packages/sklearn/svm/_base.py:1249: ConvergenceWarning: Liblinear failed to converge, increase the number of iterations.\n",
      "  warnings.warn(\n",
      "/home/stu_12310401/miniconda3/envs/assignment3/lib/python3.9/site-packages/sklearn/svm/_base.py:1249: ConvergenceWarning: Liblinear failed to converge, increase the number of iterations.\n",
      "  warnings.warn(\n",
      "/home/stu_12310401/miniconda3/envs/assignment3/lib/python3.9/site-packages/sklearn/svm/_base.py:1249: ConvergenceWarning: Liblinear failed to converge, increase the number of iterations.\n",
      "  warnings.warn(\n",
      "/home/stu_12310401/miniconda3/envs/assignment3/lib/python3.9/site-packages/sklearn/svm/_base.py:1249: ConvergenceWarning: Liblinear failed to converge, increase the number of iterations.\n",
      "  warnings.warn(\n",
      "/home/stu_12310401/miniconda3/envs/assignment3/lib/python3.9/site-packages/sklearn/svm/_base.py:1249: ConvergenceWarning: Liblinear failed to converge, increase the number of iterations.\n",
      "  warnings.warn(\n",
      "/home/stu_12310401/miniconda3/envs/assignment3/lib/python3.9/site-packages/sklearn/svm/_base.py:1249: ConvergenceWarning: Liblinear failed to converge, increase the number of iterations.\n",
      "  warnings.warn(\n",
      "/home/stu_12310401/miniconda3/envs/assignment3/lib/python3.9/site-packages/sklearn/svm/_base.py:1249: ConvergenceWarning: Liblinear failed to converge, increase the number of iterations.\n",
      "  warnings.warn(\n",
      "/home/stu_12310401/miniconda3/envs/assignment3/lib/python3.9/site-packages/sklearn/svm/_base.py:1249: ConvergenceWarning: Liblinear failed to converge, increase the number of iterations.\n",
      "  warnings.warn(\n"
     ]
    },
    {
     "name": "stdout",
     "output_type": "stream",
     "text": [
      "Predicting categories using trained SVMs...\n",
      "  Accuracy for fold 2: 58.20%\n",
      "  Iteration 2 completed in 72.51 seconds.\n",
      "\n",
      "--- Cross-Validation Iteration 3/3 ---\n",
      "  Iter 3: 1500 train imgs, 1500 test imgs.\n",
      "  Extracting BoS features using shared vocab: vocab_200.pkl\n",
      "Loading vocabulary from vocab_200.pkl...\n",
      "Getting Bags of SIFTs (SIFT step: 5, fast: True, vocab size: 200)...\n",
      "BoS feature extraction took 35.36 seconds. Features shape: (1500, 200)\n",
      "Loading vocabulary from vocab_200.pkl...\n",
      "Getting Bags of SIFTs (SIFT step: 5, fast: True, vocab size: 200)...\n",
      "BoS feature extraction took 35.61 seconds. Features shape: (1500, 200)\n",
      "  Running SVM (C=7.0)...\n",
      "Training and classifying with 1-vs-all Linear SVMs (C=7.0)...\n",
      "Training 15 1-vs-all SVMs...\n"
     ]
    },
    {
     "name": "stderr",
     "output_type": "stream",
     "text": [
      "/home/stu_12310401/miniconda3/envs/assignment3/lib/python3.9/site-packages/sklearn/svm/_base.py:1249: ConvergenceWarning: Liblinear failed to converge, increase the number of iterations.\n",
      "  warnings.warn(\n",
      "/home/stu_12310401/miniconda3/envs/assignment3/lib/python3.9/site-packages/sklearn/svm/_base.py:1249: ConvergenceWarning: Liblinear failed to converge, increase the number of iterations.\n",
      "  warnings.warn(\n",
      "/home/stu_12310401/miniconda3/envs/assignment3/lib/python3.9/site-packages/sklearn/svm/_base.py:1249: ConvergenceWarning: Liblinear failed to converge, increase the number of iterations.\n",
      "  warnings.warn(\n",
      "/home/stu_12310401/miniconda3/envs/assignment3/lib/python3.9/site-packages/sklearn/svm/_base.py:1249: ConvergenceWarning: Liblinear failed to converge, increase the number of iterations.\n",
      "  warnings.warn(\n",
      "/home/stu_12310401/miniconda3/envs/assignment3/lib/python3.9/site-packages/sklearn/svm/_base.py:1249: ConvergenceWarning: Liblinear failed to converge, increase the number of iterations.\n",
      "  warnings.warn(\n",
      "/home/stu_12310401/miniconda3/envs/assignment3/lib/python3.9/site-packages/sklearn/svm/_base.py:1249: ConvergenceWarning: Liblinear failed to converge, increase the number of iterations.\n",
      "  warnings.warn(\n",
      "/home/stu_12310401/miniconda3/envs/assignment3/lib/python3.9/site-packages/sklearn/svm/_base.py:1249: ConvergenceWarning: Liblinear failed to converge, increase the number of iterations.\n",
      "  warnings.warn(\n",
      "/home/stu_12310401/miniconda3/envs/assignment3/lib/python3.9/site-packages/sklearn/svm/_base.py:1249: ConvergenceWarning: Liblinear failed to converge, increase the number of iterations.\n",
      "  warnings.warn(\n",
      "/home/stu_12310401/miniconda3/envs/assignment3/lib/python3.9/site-packages/sklearn/svm/_base.py:1249: ConvergenceWarning: Liblinear failed to converge, increase the number of iterations.\n",
      "  warnings.warn(\n",
      "/home/stu_12310401/miniconda3/envs/assignment3/lib/python3.9/site-packages/sklearn/svm/_base.py:1249: ConvergenceWarning: Liblinear failed to converge, increase the number of iterations.\n",
      "  warnings.warn(\n",
      "/home/stu_12310401/miniconda3/envs/assignment3/lib/python3.9/site-packages/sklearn/svm/_base.py:1249: ConvergenceWarning: Liblinear failed to converge, increase the number of iterations.\n",
      "  warnings.warn(\n",
      "/home/stu_12310401/miniconda3/envs/assignment3/lib/python3.9/site-packages/sklearn/svm/_base.py:1249: ConvergenceWarning: Liblinear failed to converge, increase the number of iterations.\n",
      "  warnings.warn(\n"
     ]
    },
    {
     "name": "stdout",
     "output_type": "stream",
     "text": [
      "Predicting categories using trained SVMs...\n",
      "  Accuracy for fold 3: 56.80%\n",
      "  Iteration 3 completed in 72.42 seconds.\n",
      "\n",
      "\n",
      "--- Cross-Validation Summary (bag_of_sifts & svm) ---\n",
      "Num iterations: 3 (Successful folds recorded: 3)\n",
      "Vocabulary file used/created: vocab_200.pkl (Size: 200)\n",
      "Mean Accuracy: 58.02%\n",
      "Std Dev Accuracy: 0.93%\n",
      "Individual accuracies: ['59.07%', '58.20%', '56.80%']\n"
     ]
    },
    {
     "name": "stderr",
     "output_type": "stream",
     "text": [
      "/home/stu_12310401/miniconda3/envs/assignment3/lib/python3.9/site-packages/sklearn/svm/_base.py:1249: ConvergenceWarning: Liblinear failed to converge, increase the number of iterations.\n",
      "  warnings.warn(\n"
     ]
    },
    {
     "data": {
      "text/plain": [
       "(0.5802222222222223, 0.009338622839755886, [0.5906666666666667, 0.582, 0.568])"
      ]
     },
     "execution_count": 25,
     "metadata": {},
     "output_type": "execute_result"
    }
   ],
   "source": [
    "print(\"\\n\\n===== EXPERIMENT 3: Bag of SIFT + SVM =====\")\n",
    "run_cross_validation(\n",
    "    data_path=DATA_PATH, categories=CATEGORIES, num_iterations=NUM_CV_ITERATIONS,\n",
    "    feature_type='bag_of_sifts', classifier_type='svm',\n",
    "    vocab_size_for_sift=200,     \n",
    "    sift_step_vocab=10,            \n",
    "    sift_fast_vocab=True,\n",
    "    sift_step_features=5,\n",
    "    sift_fast_features=True,\n",
    "    svm_c_value=7.0              \n",
    ")"
   ]
  },
  {
   "cell_type": "code",
   "execution_count": null,
   "metadata": {},
   "outputs": [
    {
     "name": "stdout",
     "output_type": "stream",
     "text": [
      "\n",
      "\n",
      "===== EXPERIMENT 3: Bag of SIFT + SVM =====\n",
      "Collecting all image paths from '../data/[train|test]/[category_name]/' structure...\n",
      "Finished collecting and shuffling all image paths for each category.\n",
      "\n",
      "--- Vocabulary Handling for Bag of SIFT (Size: 1000) ---\n",
      "Target vocabulary file: vocab_1000.pkl\n",
      "Using existing vocabulary file: vocab_1000.pkl\n",
      "Successfully loaded existing vocabulary. Size: 1000\n",
      "\n",
      "--- Cross-Validation Iteration 1/3 ---\n",
      "  Iter 1: 1500 train imgs, 1500 test imgs.\n",
      "  Extracting BoS features using shared vocab: vocab_1000.pkl\n",
      "Loading vocabulary from vocab_1000.pkl...\n",
      "Getting Bags of SIFTs (SIFT step: 5, fast: True, vocab size: 1000)...\n",
      "BoS feature extraction took 121.08 seconds. Features shape: (1500, 1000)\n",
      "Loading vocabulary from vocab_1000.pkl...\n",
      "Getting Bags of SIFTs (SIFT step: 5, fast: True, vocab size: 1000)...\n",
      "BoS feature extraction took 120.40 seconds. Features shape: (1500, 1000)\n",
      "  Running SVM (C=7.0)...\n",
      "Training and classifying with 1-vs-all Linear SVMs (C=7.0)...\n",
      "Training 15 1-vs-all SVMs...\n"
     ]
    },
    {
     "name": "stderr",
     "output_type": "stream",
     "text": [
      "/home/stu_12310401/miniconda3/envs/assignment3/lib/python3.9/site-packages/sklearn/svm/_base.py:1249: ConvergenceWarning: Liblinear failed to converge, increase the number of iterations.\n",
      "  warnings.warn(\n",
      "/home/stu_12310401/miniconda3/envs/assignment3/lib/python3.9/site-packages/sklearn/svm/_base.py:1249: ConvergenceWarning: Liblinear failed to converge, increase the number of iterations.\n",
      "  warnings.warn(\n",
      "/home/stu_12310401/miniconda3/envs/assignment3/lib/python3.9/site-packages/sklearn/svm/_base.py:1249: ConvergenceWarning: Liblinear failed to converge, increase the number of iterations.\n",
      "  warnings.warn(\n",
      "/home/stu_12310401/miniconda3/envs/assignment3/lib/python3.9/site-packages/sklearn/svm/_base.py:1249: ConvergenceWarning: Liblinear failed to converge, increase the number of iterations.\n",
      "  warnings.warn(\n",
      "/home/stu_12310401/miniconda3/envs/assignment3/lib/python3.9/site-packages/sklearn/svm/_base.py:1249: ConvergenceWarning: Liblinear failed to converge, increase the number of iterations.\n",
      "  warnings.warn(\n",
      "/home/stu_12310401/miniconda3/envs/assignment3/lib/python3.9/site-packages/sklearn/svm/_base.py:1249: ConvergenceWarning: Liblinear failed to converge, increase the number of iterations.\n",
      "  warnings.warn(\n",
      "/home/stu_12310401/miniconda3/envs/assignment3/lib/python3.9/site-packages/sklearn/svm/_base.py:1249: ConvergenceWarning: Liblinear failed to converge, increase the number of iterations.\n",
      "  warnings.warn(\n",
      "/home/stu_12310401/miniconda3/envs/assignment3/lib/python3.9/site-packages/sklearn/svm/_base.py:1249: ConvergenceWarning: Liblinear failed to converge, increase the number of iterations.\n",
      "  warnings.warn(\n",
      "/home/stu_12310401/miniconda3/envs/assignment3/lib/python3.9/site-packages/sklearn/svm/_base.py:1249: ConvergenceWarning: Liblinear failed to converge, increase the number of iterations.\n",
      "  warnings.warn(\n",
      "/home/stu_12310401/miniconda3/envs/assignment3/lib/python3.9/site-packages/sklearn/svm/_base.py:1249: ConvergenceWarning: Liblinear failed to converge, increase the number of iterations.\n",
      "  warnings.warn(\n",
      "/home/stu_12310401/miniconda3/envs/assignment3/lib/python3.9/site-packages/sklearn/svm/_base.py:1249: ConvergenceWarning: Liblinear failed to converge, increase the number of iterations.\n",
      "  warnings.warn(\n",
      "/home/stu_12310401/miniconda3/envs/assignment3/lib/python3.9/site-packages/sklearn/svm/_base.py:1249: ConvergenceWarning: Liblinear failed to converge, increase the number of iterations.\n",
      "  warnings.warn(\n",
      "/home/stu_12310401/miniconda3/envs/assignment3/lib/python3.9/site-packages/sklearn/svm/_base.py:1249: ConvergenceWarning: Liblinear failed to converge, increase the number of iterations.\n",
      "  warnings.warn(\n"
     ]
    },
    {
     "name": "stdout",
     "output_type": "stream",
     "text": [
      "Predicting categories using trained SVMs...\n",
      "  Accuracy for fold 1: 62.07%\n",
      "  Iteration 1 completed in 248.60 seconds.\n",
      "\n",
      "--- Cross-Validation Iteration 2/3 ---\n",
      "  Iter 2: 1500 train imgs, 1500 test imgs.\n",
      "  Extracting BoS features using shared vocab: vocab_1000.pkl\n",
      "Loading vocabulary from vocab_1000.pkl...\n",
      "Getting Bags of SIFTs (SIFT step: 5, fast: True, vocab size: 1000)...\n",
      "BoS feature extraction took 121.25 seconds. Features shape: (1500, 1000)\n",
      "Loading vocabulary from vocab_1000.pkl...\n",
      "Getting Bags of SIFTs (SIFT step: 5, fast: True, vocab size: 1000)...\n",
      "BoS feature extraction took 120.77 seconds. Features shape: (1500, 1000)\n",
      "  Running SVM (C=7.0)...\n",
      "Training and classifying with 1-vs-all Linear SVMs (C=7.0)...\n",
      "Training 15 1-vs-all SVMs...\n"
     ]
    },
    {
     "name": "stderr",
     "output_type": "stream",
     "text": [
      "/home/stu_12310401/miniconda3/envs/assignment3/lib/python3.9/site-packages/sklearn/svm/_base.py:1249: ConvergenceWarning: Liblinear failed to converge, increase the number of iterations.\n",
      "  warnings.warn(\n",
      "/home/stu_12310401/miniconda3/envs/assignment3/lib/python3.9/site-packages/sklearn/svm/_base.py:1249: ConvergenceWarning: Liblinear failed to converge, increase the number of iterations.\n",
      "  warnings.warn(\n",
      "/home/stu_12310401/miniconda3/envs/assignment3/lib/python3.9/site-packages/sklearn/svm/_base.py:1249: ConvergenceWarning: Liblinear failed to converge, increase the number of iterations.\n",
      "  warnings.warn(\n",
      "/home/stu_12310401/miniconda3/envs/assignment3/lib/python3.9/site-packages/sklearn/svm/_base.py:1249: ConvergenceWarning: Liblinear failed to converge, increase the number of iterations.\n",
      "  warnings.warn(\n",
      "/home/stu_12310401/miniconda3/envs/assignment3/lib/python3.9/site-packages/sklearn/svm/_base.py:1249: ConvergenceWarning: Liblinear failed to converge, increase the number of iterations.\n",
      "  warnings.warn(\n",
      "/home/stu_12310401/miniconda3/envs/assignment3/lib/python3.9/site-packages/sklearn/svm/_base.py:1249: ConvergenceWarning: Liblinear failed to converge, increase the number of iterations.\n",
      "  warnings.warn(\n",
      "/home/stu_12310401/miniconda3/envs/assignment3/lib/python3.9/site-packages/sklearn/svm/_base.py:1249: ConvergenceWarning: Liblinear failed to converge, increase the number of iterations.\n",
      "  warnings.warn(\n",
      "/home/stu_12310401/miniconda3/envs/assignment3/lib/python3.9/site-packages/sklearn/svm/_base.py:1249: ConvergenceWarning: Liblinear failed to converge, increase the number of iterations.\n",
      "  warnings.warn(\n",
      "/home/stu_12310401/miniconda3/envs/assignment3/lib/python3.9/site-packages/sklearn/svm/_base.py:1249: ConvergenceWarning: Liblinear failed to converge, increase the number of iterations.\n",
      "  warnings.warn(\n",
      "/home/stu_12310401/miniconda3/envs/assignment3/lib/python3.9/site-packages/sklearn/svm/_base.py:1249: ConvergenceWarning: Liblinear failed to converge, increase the number of iterations.\n",
      "  warnings.warn(\n",
      "/home/stu_12310401/miniconda3/envs/assignment3/lib/python3.9/site-packages/sklearn/svm/_base.py:1249: ConvergenceWarning: Liblinear failed to converge, increase the number of iterations.\n",
      "  warnings.warn(\n",
      "/home/stu_12310401/miniconda3/envs/assignment3/lib/python3.9/site-packages/sklearn/svm/_base.py:1249: ConvergenceWarning: Liblinear failed to converge, increase the number of iterations.\n",
      "  warnings.warn(\n",
      "/home/stu_12310401/miniconda3/envs/assignment3/lib/python3.9/site-packages/sklearn/svm/_base.py:1249: ConvergenceWarning: Liblinear failed to converge, increase the number of iterations.\n",
      "  warnings.warn(\n",
      "/home/stu_12310401/miniconda3/envs/assignment3/lib/python3.9/site-packages/sklearn/svm/_base.py:1249: ConvergenceWarning: Liblinear failed to converge, increase the number of iterations.\n",
      "  warnings.warn(\n"
     ]
    },
    {
     "name": "stdout",
     "output_type": "stream",
     "text": [
      "Predicting categories using trained SVMs...\n",
      "  Accuracy for fold 2: 63.60%\n",
      "  Iteration 2 completed in 249.00 seconds.\n",
      "\n",
      "--- Cross-Validation Iteration 3/3 ---\n",
      "  Iter 3: 1500 train imgs, 1500 test imgs.\n",
      "  Extracting BoS features using shared vocab: vocab_1000.pkl\n",
      "Loading vocabulary from vocab_1000.pkl...\n",
      "Getting Bags of SIFTs (SIFT step: 5, fast: True, vocab size: 1000)...\n",
      "BoS feature extraction took 120.85 seconds. Features shape: (1500, 1000)\n",
      "Loading vocabulary from vocab_1000.pkl...\n",
      "Getting Bags of SIFTs (SIFT step: 5, fast: True, vocab size: 1000)...\n",
      "BoS feature extraction took 120.99 seconds. Features shape: (1500, 1000)\n",
      "  Running SVM (C=7.0)...\n",
      "Training and classifying with 1-vs-all Linear SVMs (C=7.0)...\n",
      "Training 15 1-vs-all SVMs...\n"
     ]
    },
    {
     "name": "stderr",
     "output_type": "stream",
     "text": [
      "/home/stu_12310401/miniconda3/envs/assignment3/lib/python3.9/site-packages/sklearn/svm/_base.py:1249: ConvergenceWarning: Liblinear failed to converge, increase the number of iterations.\n",
      "  warnings.warn(\n",
      "/home/stu_12310401/miniconda3/envs/assignment3/lib/python3.9/site-packages/sklearn/svm/_base.py:1249: ConvergenceWarning: Liblinear failed to converge, increase the number of iterations.\n",
      "  warnings.warn(\n",
      "/home/stu_12310401/miniconda3/envs/assignment3/lib/python3.9/site-packages/sklearn/svm/_base.py:1249: ConvergenceWarning: Liblinear failed to converge, increase the number of iterations.\n",
      "  warnings.warn(\n",
      "/home/stu_12310401/miniconda3/envs/assignment3/lib/python3.9/site-packages/sklearn/svm/_base.py:1249: ConvergenceWarning: Liblinear failed to converge, increase the number of iterations.\n",
      "  warnings.warn(\n",
      "/home/stu_12310401/miniconda3/envs/assignment3/lib/python3.9/site-packages/sklearn/svm/_base.py:1249: ConvergenceWarning: Liblinear failed to converge, increase the number of iterations.\n",
      "  warnings.warn(\n",
      "/home/stu_12310401/miniconda3/envs/assignment3/lib/python3.9/site-packages/sklearn/svm/_base.py:1249: ConvergenceWarning: Liblinear failed to converge, increase the number of iterations.\n",
      "  warnings.warn(\n",
      "/home/stu_12310401/miniconda3/envs/assignment3/lib/python3.9/site-packages/sklearn/svm/_base.py:1249: ConvergenceWarning: Liblinear failed to converge, increase the number of iterations.\n",
      "  warnings.warn(\n",
      "/home/stu_12310401/miniconda3/envs/assignment3/lib/python3.9/site-packages/sklearn/svm/_base.py:1249: ConvergenceWarning: Liblinear failed to converge, increase the number of iterations.\n",
      "  warnings.warn(\n",
      "/home/stu_12310401/miniconda3/envs/assignment3/lib/python3.9/site-packages/sklearn/svm/_base.py:1249: ConvergenceWarning: Liblinear failed to converge, increase the number of iterations.\n",
      "  warnings.warn(\n",
      "/home/stu_12310401/miniconda3/envs/assignment3/lib/python3.9/site-packages/sklearn/svm/_base.py:1249: ConvergenceWarning: Liblinear failed to converge, increase the number of iterations.\n",
      "  warnings.warn(\n",
      "/home/stu_12310401/miniconda3/envs/assignment3/lib/python3.9/site-packages/sklearn/svm/_base.py:1249: ConvergenceWarning: Liblinear failed to converge, increase the number of iterations.\n",
      "  warnings.warn(\n",
      "/home/stu_12310401/miniconda3/envs/assignment3/lib/python3.9/site-packages/sklearn/svm/_base.py:1249: ConvergenceWarning: Liblinear failed to converge, increase the number of iterations.\n",
      "  warnings.warn(\n",
      "/home/stu_12310401/miniconda3/envs/assignment3/lib/python3.9/site-packages/sklearn/svm/_base.py:1249: ConvergenceWarning: Liblinear failed to converge, increase the number of iterations.\n",
      "  warnings.warn(\n"
     ]
    },
    {
     "name": "stdout",
     "output_type": "stream",
     "text": [
      "Predicting categories using trained SVMs...\n",
      "  Accuracy for fold 3: 62.40%\n",
      "  Iteration 3 completed in 248.94 seconds.\n",
      "\n",
      "\n",
      "--- Cross-Validation Summary (bag_of_sifts & svm) ---\n",
      "Num iterations: 3 (Successful folds recorded: 3)\n",
      "Vocabulary file used/created: vocab_1000.pkl (Size: 1000)\n",
      "Mean Accuracy: 62.69%\n",
      "Std Dev Accuracy: 0.66%\n",
      "Individual accuracies: ['62.07%', '63.60%', '62.40%']\n"
     ]
    },
    {
     "name": "stderr",
     "output_type": "stream",
     "text": [
      "/home/stu_12310401/miniconda3/envs/assignment3/lib/python3.9/site-packages/sklearn/svm/_base.py:1249: ConvergenceWarning: Liblinear failed to converge, increase the number of iterations.\n",
      "  warnings.warn(\n"
     ]
    },
    {
     "data": {
      "text/plain": [
       "(0.6268888888888889, 0.006584681062235129, [0.6206666666666667, 0.636, 0.624])"
      ]
     },
     "execution_count": 26,
     "metadata": {},
     "output_type": "execute_result"
    }
   ],
   "source": [
    "print(\"\\n\\n===== EXPERIMENT 3: Bag of SIFT + SVM =====\")\n",
    "run_cross_validation(\n",
    "    data_path=DATA_PATH, categories=CATEGORIES, num_iterations=NUM_CV_ITERATIONS,\n",
    "    feature_type='bag_of_sifts', classifier_type='svm',\n",
    "    vocab_size_for_sift=1000,      \n",
    "    sift_step_vocab=8,            \n",
    "    sift_fast_vocab=True,\n",
    "    sift_step_features=4,\n",
    "    sift_fast_features=True,\n",
    "    svm_c_value=7.0            \n",
    ")"
   ]
  },
  {
   "cell_type": "markdown",
   "metadata": {},
   "source": [
    "## Fast SIFT"
   ]
  },
  {
   "cell_type": "code",
   "execution_count": 27,
   "metadata": {},
   "outputs": [
    {
     "name": "stdout",
     "output_type": "stream",
     "text": [
      "\n",
      "\n",
      "===== EXPERIMENT 4: Bag of SIFT + SVM (Not use Fast SIFT) =====\n",
      "Collecting all image paths from '../data/[train|test]/[category_name]/' structure...\n",
      "Finished collecting and shuffling all image paths for each category.\n",
      "\n",
      "--- Vocabulary Handling for Bag of SIFT (Size: 10) ---\n",
      "Target vocabulary file: vocab_10.pkl\n",
      "Forcing rebuild of existing vocabulary file: vocab_10.pkl\n",
      "Building vocabulary using 1500 images, target size 10, saving to vocab_10.pkl\n",
      "Building vocabulary of size 10 (SIFT step: 10, fast: False)...\n",
      "Total SIFT descriptors sampled: 967855\n",
      "Clustering 967855 descriptors into 10 clusters...\n",
      "Vocabulary building took 145.64 seconds. Vocab shape: (10, 128)\n",
      "--- Vocabulary built in 145.65s and saved. Actual size: 10 (Target: 10) ---\n",
      "\n",
      "--- Cross-Validation Iteration 1/3 ---\n",
      "  Iter 1: 1500 train imgs, 1500 test imgs.\n",
      "  Extracting BoS features using shared vocab: vocab_10.pkl\n",
      "Loading vocabulary from vocab_10.pkl...\n",
      "Getting Bags of SIFTs (SIFT step: 5, fast: False, vocab size: 10)...\n",
      "BoS feature extraction took 143.35 seconds. Features shape: (1500, 10)\n",
      "Loading vocabulary from vocab_10.pkl...\n",
      "Getting Bags of SIFTs (SIFT step: 5, fast: False, vocab size: 10)...\n",
      "BoS feature extraction took 143.88 seconds. Features shape: (1500, 10)\n",
      "  Running SVM (C=7.0)...\n",
      "Training and classifying with 1-vs-all Linear SVMs (C=7.0)...\n",
      "Training 15 1-vs-all SVMs...\n",
      "Predicting categories using trained SVMs...\n",
      "  Accuracy for fold 1: 31.33%\n",
      "  Iteration 1 completed in 287.32 seconds.\n",
      "\n",
      "--- Cross-Validation Iteration 2/3 ---\n",
      "  Iter 2: 1500 train imgs, 1500 test imgs.\n",
      "  Extracting BoS features using shared vocab: vocab_10.pkl\n",
      "Loading vocabulary from vocab_10.pkl...\n",
      "Getting Bags of SIFTs (SIFT step: 5, fast: False, vocab size: 10)...\n"
     ]
    },
    {
     "name": "stderr",
     "output_type": "stream",
     "text": [
      "/home/stu_12310401/miniconda3/envs/assignment3/lib/python3.9/site-packages/sklearn/svm/_base.py:1249: ConvergenceWarning: Liblinear failed to converge, increase the number of iterations.\n",
      "  warnings.warn(\n"
     ]
    },
    {
     "ename": "KeyboardInterrupt",
     "evalue": "",
     "output_type": "error",
     "traceback": [
      "\u001b[0;31m---------------------------------------------------------------------------\u001b[0m",
      "\u001b[0;31mKeyboardInterrupt\u001b[0m                         Traceback (most recent call last)",
      "\u001b[1;32m/home/stu_12310401/SUSTech-CV/Assignment3/Assignment3_code/mycode/assignment3.ipynb 单元格 46\u001b[0m line \u001b[0;36m2\n\u001b[1;32m      <a href='vscode-notebook-cell://ssh-remote%2B172.18.35.215/home/stu_12310401/SUSTech-CV/Assignment3/Assignment3_code/mycode/assignment3.ipynb#X63sdnNjb2RlLXJlbW90ZQ%3D%3D?line=0'>1</a>\u001b[0m \u001b[39mprint\u001b[39m(\u001b[39m\"\u001b[39m\u001b[39m\\n\u001b[39;00m\u001b[39m\\n\u001b[39;00m\u001b[39m===== EXPERIMENT 4: Bag of SIFT + SVM (Not use Fast SIFT) =====\u001b[39m\u001b[39m\"\u001b[39m)\n\u001b[0;32m----> <a href='vscode-notebook-cell://ssh-remote%2B172.18.35.215/home/stu_12310401/SUSTech-CV/Assignment3/Assignment3_code/mycode/assignment3.ipynb#X63sdnNjb2RlLXJlbW90ZQ%3D%3D?line=1'>2</a>\u001b[0m run_cross_validation(\n\u001b[1;32m      <a href='vscode-notebook-cell://ssh-remote%2B172.18.35.215/home/stu_12310401/SUSTech-CV/Assignment3/Assignment3_code/mycode/assignment3.ipynb#X63sdnNjb2RlLXJlbW90ZQ%3D%3D?line=2'>3</a>\u001b[0m     data_path\u001b[39m=\u001b[39;49mDATA_PATH, categories\u001b[39m=\u001b[39;49mCATEGORIES, num_iterations\u001b[39m=\u001b[39;49mNUM_CV_ITERATIONS,\n\u001b[1;32m      <a href='vscode-notebook-cell://ssh-remote%2B172.18.35.215/home/stu_12310401/SUSTech-CV/Assignment3/Assignment3_code/mycode/assignment3.ipynb#X63sdnNjb2RlLXJlbW90ZQ%3D%3D?line=3'>4</a>\u001b[0m     feature_type\u001b[39m=\u001b[39;49m\u001b[39m'\u001b[39;49m\u001b[39mbag_of_sifts\u001b[39;49m\u001b[39m'\u001b[39;49m, classifier_type\u001b[39m=\u001b[39;49m\u001b[39m'\u001b[39;49m\u001b[39msvm\u001b[39;49m\u001b[39m'\u001b[39;49m,\n\u001b[1;32m      <a href='vscode-notebook-cell://ssh-remote%2B172.18.35.215/home/stu_12310401/SUSTech-CV/Assignment3/Assignment3_code/mycode/assignment3.ipynb#X63sdnNjb2RlLXJlbW90ZQ%3D%3D?line=4'>5</a>\u001b[0m     vocab_size_for_sift\u001b[39m=\u001b[39;49m\u001b[39m10\u001b[39;49m,      \n\u001b[1;32m      <a href='vscode-notebook-cell://ssh-remote%2B172.18.35.215/home/stu_12310401/SUSTech-CV/Assignment3/Assignment3_code/mycode/assignment3.ipynb#X63sdnNjb2RlLXJlbW90ZQ%3D%3D?line=5'>6</a>\u001b[0m     sift_step_vocab\u001b[39m=\u001b[39;49m\u001b[39m10\u001b[39;49m,           \n\u001b[1;32m      <a href='vscode-notebook-cell://ssh-remote%2B172.18.35.215/home/stu_12310401/SUSTech-CV/Assignment3/Assignment3_code/mycode/assignment3.ipynb#X63sdnNjb2RlLXJlbW90ZQ%3D%3D?line=6'>7</a>\u001b[0m     sift_fast_vocab\u001b[39m=\u001b[39;49m\u001b[39mFalse\u001b[39;49;00m,\n\u001b[1;32m      <a href='vscode-notebook-cell://ssh-remote%2B172.18.35.215/home/stu_12310401/SUSTech-CV/Assignment3/Assignment3_code/mycode/assignment3.ipynb#X63sdnNjb2RlLXJlbW90ZQ%3D%3D?line=7'>8</a>\u001b[0m     sift_step_features\u001b[39m=\u001b[39;49m\u001b[39m5\u001b[39;49m,\n\u001b[1;32m      <a href='vscode-notebook-cell://ssh-remote%2B172.18.35.215/home/stu_12310401/SUSTech-CV/Assignment3/Assignment3_code/mycode/assignment3.ipynb#X63sdnNjb2RlLXJlbW90ZQ%3D%3D?line=8'>9</a>\u001b[0m     sift_fast_features\u001b[39m=\u001b[39;49m\u001b[39mFalse\u001b[39;49;00m,\n\u001b[1;32m     <a href='vscode-notebook-cell://ssh-remote%2B172.18.35.215/home/stu_12310401/SUSTech-CV/Assignment3/Assignment3_code/mycode/assignment3.ipynb#X63sdnNjb2RlLXJlbW90ZQ%3D%3D?line=9'>10</a>\u001b[0m     svm_c_value\u001b[39m=\u001b[39;49m\u001b[39m7.0\u001b[39;49m,\n\u001b[1;32m     <a href='vscode-notebook-cell://ssh-remote%2B172.18.35.215/home/stu_12310401/SUSTech-CV/Assignment3/Assignment3_code/mycode/assignment3.ipynb#X63sdnNjb2RlLXJlbW90ZQ%3D%3D?line=10'>11</a>\u001b[0m     force_vocab_rebuild\u001b[39m=\u001b[39;49m\u001b[39mTrue\u001b[39;49;00m\n\u001b[1;32m     <a href='vscode-notebook-cell://ssh-remote%2B172.18.35.215/home/stu_12310401/SUSTech-CV/Assignment3/Assignment3_code/mycode/assignment3.ipynb#X63sdnNjb2RlLXJlbW90ZQ%3D%3D?line=11'>12</a>\u001b[0m )\n",
      "File \u001b[0;32m~/SUSTech-CV/Assignment3/Assignment3_code/mycode/crossvalidation.py:184\u001b[0m, in \u001b[0;36mrun_cross_validation\u001b[0;34m(data_path, categories, num_iterations, feature_type, classifier_type, k_for_knn, metric_for_knn, vocab_size_for_sift, sift_step_vocab, sift_fast_vocab, sift_step_features, sift_fast_features, svm_c_value, force_vocab_rebuild)\u001b[0m\n\u001b[1;32m    182\u001b[0m \u001b[39mprint\u001b[39m(\u001b[39mf\u001b[39m\u001b[39m\"\u001b[39m\u001b[39m  Extracting BoS features using shared vocab: \u001b[39m\u001b[39m{\u001b[39;00mcv_run_vocab_filename\u001b[39m}\u001b[39;00m\u001b[39m\"\u001b[39m)\n\u001b[1;32m    183\u001b[0m \u001b[39mif\u001b[39;00m current_train_image_paths:\n\u001b[0;32m--> 184\u001b[0m     train_image_feats \u001b[39m=\u001b[39m sc\u001b[39m.\u001b[39;49mget_bags_of_sifts(current_train_image_paths,\n\u001b[1;32m    185\u001b[0m                                              cv_run_vocab_filename,\n\u001b[1;32m    186\u001b[0m                                              sift_step_size\u001b[39m=\u001b[39;49msift_step_features,\n\u001b[1;32m    187\u001b[0m                                              sift_fast_mode\u001b[39m=\u001b[39;49msift_fast_features)\n\u001b[1;32m    188\u001b[0m \u001b[39melse\u001b[39;00m: train_image_feats \u001b[39m=\u001b[39m np\u001b[39m.\u001b[39marray([])\n\u001b[1;32m    190\u001b[0m \u001b[39mif\u001b[39;00m current_test_image_paths:\n",
      "File \u001b[0;32m~/SUSTech-CV/Assignment3/Assignment3_code/mycode/student_code_12310401.py:149\u001b[0m, in \u001b[0;36mget_bags_of_sifts\u001b[0;34m(image_paths, vocab_filename, sift_step_size, sift_fast_mode)\u001b[0m\n\u001b[1;32m    146\u001b[0m img \u001b[39m=\u001b[39m load_image_gray(path)\n\u001b[1;32m    147\u001b[0m img_single \u001b[39m=\u001b[39m img\u001b[39m.\u001b[39mastype(np\u001b[39m.\u001b[39mfloat32)\n\u001b[0;32m--> 149\u001b[0m frames, descriptors \u001b[39m=\u001b[39m vlfeat\u001b[39m.\u001b[39;49msift\u001b[39m.\u001b[39;49mdsift(img_single, \n\u001b[1;32m    150\u001b[0m                                         step\u001b[39m=\u001b[39;49msift_step_size, \n\u001b[1;32m    151\u001b[0m                                         fast\u001b[39m=\u001b[39;49msift_fast_mode)\n\u001b[1;32m    153\u001b[0m histogram \u001b[39m=\u001b[39m np\u001b[39m.\u001b[39mzeros(vocab_size, dtype\u001b[39m=\u001b[39mnp\u001b[39m.\u001b[39mfloat32)\n\u001b[1;32m    155\u001b[0m \u001b[39mif\u001b[39;00m descriptors \u001b[39mis\u001b[39;00m \u001b[39mnot\u001b[39;00m \u001b[39mNone\u001b[39;00m \u001b[39mand\u001b[39;00m descriptors\u001b[39m.\u001b[39mshape[\u001b[39m0\u001b[39m] \u001b[39m>\u001b[39m \u001b[39m0\u001b[39m:\n",
      "File \u001b[0;32m~/miniconda3/envs/assignment3/lib/python3.9/site-packages/cyvlfeat/sift/dsift.py:179\u001b[0m, in \u001b[0;36mdsift\u001b[0;34m(image, step, size, bounds, window_size, norm, fast, float_descriptors, geometry, verbose)\u001b[0m\n\u001b[1;32m    177\u001b[0m bounds \u001b[39m=\u001b[39m bounds\u001b[39m.\u001b[39mastype(np\u001b[39m.\u001b[39mint32)\n\u001b[1;32m    178\u001b[0m image \u001b[39m=\u001b[39m np\u001b[39m.\u001b[39mrequire(image, dtype\u001b[39m=\u001b[39mnp\u001b[39m.\u001b[39mfloat32, requirements\u001b[39m=\u001b[39m\u001b[39m'\u001b[39m\u001b[39mC\u001b[39m\u001b[39m'\u001b[39m)\n\u001b[0;32m--> 179\u001b[0m frames, descriptors \u001b[39m=\u001b[39m cy_dsift(image, step, size, bounds, window_size,\n\u001b[1;32m    180\u001b[0m                                norm, fast, float_descriptors, geometry,\n\u001b[1;32m    181\u001b[0m                                verbose)\n\u001b[1;32m    182\u001b[0m \u001b[39mreturn\u001b[39;00m frames, descriptors\n",
      "\u001b[0;31mKeyboardInterrupt\u001b[0m: "
     ]
    }
   ],
   "source": [
    "print(\"\\n\\n===== EXPERIMENT 4: Bag of SIFT + SVM (Not use Fast SIFT) =====\")\n",
    "run_cross_validation(\n",
    "    data_path=DATA_PATH, categories=CATEGORIES, num_iterations=1,\n",
    "    feature_type='bag_of_sifts', classifier_type='svm',\n",
    "    vocab_size_for_sift=10,      \n",
    "    sift_step_vocab=10,           \n",
    "    sift_fast_vocab=False,\n",
    "    sift_step_features=5,\n",
    "    sift_fast_features=False,\n",
    "    svm_c_value=7.0,\n",
    "    force_vocab_rebuild=True\n",
    ")"
   ]
  },
  {
   "cell_type": "code",
   "execution_count": 28,
   "metadata": {},
   "outputs": [
    {
     "name": "stdout",
     "output_type": "stream",
     "text": [
      "\n",
      "\n",
      "===== EXPERIMENT 4: Bag of SIFT + SVM (Not use Fast SIFT) =====\n",
      "Collecting all image paths from '../data/[train|test]/[category_name]/' structure...\n",
      "Finished collecting and shuffling all image paths for each category.\n",
      "\n",
      "--- Vocabulary Handling for Bag of SIFT (Size: 10) ---\n",
      "Target vocabulary file: vocab_10.pkl\n",
      "Forcing rebuild of existing vocabulary file: vocab_10.pkl\n",
      "Building vocabulary using 1500 images, target size 10, saving to vocab_10.pkl\n",
      "Building vocabulary of size 10 (SIFT step: 10, fast: True)...\n",
      "Total SIFT descriptors sampled: 966762\n",
      "Clustering 966762 descriptors into 10 clusters...\n",
      "Vocabulary building took 18.04 seconds. Vocab shape: (10, 128)\n",
      "--- Vocabulary built in 18.04s and saved. Actual size: 10 (Target: 10) ---\n",
      "\n",
      "--- Cross-Validation Iteration 1/1 ---\n",
      "  Iter 1: 1500 train imgs, 1500 test imgs.\n",
      "  Extracting BoS features using shared vocab: vocab_10.pkl\n",
      "Loading vocabulary from vocab_10.pkl...\n",
      "Getting Bags of SIFTs (SIFT step: 5, fast: True, vocab size: 10)...\n",
      "BoS feature extraction took 15.78 seconds. Features shape: (1500, 10)\n",
      "Loading vocabulary from vocab_10.pkl...\n",
      "Getting Bags of SIFTs (SIFT step: 5, fast: True, vocab size: 10)...\n",
      "BoS feature extraction took 15.65 seconds. Features shape: (1500, 10)\n",
      "  Running SVM (C=7.0)...\n",
      "Training and classifying with 1-vs-all Linear SVMs (C=7.0)...\n",
      "Training 15 1-vs-all SVMs...\n",
      "Predicting categories using trained SVMs...\n",
      "  Accuracy for fold 1: 32.13%\n",
      "  Iteration 1 completed in 31.52 seconds.\n",
      "\n",
      "\n",
      "--- Cross-Validation Summary (bag_of_sifts & svm) ---\n",
      "Num iterations: 1 (Successful folds recorded: 1)\n",
      "Vocabulary file used/created: vocab_10.pkl (Size: 10)\n",
      "Mean Accuracy: 32.13%\n",
      "Std Dev Accuracy: 0.00%\n",
      "Individual accuracies: ['32.13%']\n"
     ]
    },
    {
     "name": "stderr",
     "output_type": "stream",
     "text": [
      "/home/stu_12310401/miniconda3/envs/assignment3/lib/python3.9/site-packages/sklearn/svm/_base.py:1249: ConvergenceWarning: Liblinear failed to converge, increase the number of iterations.\n",
      "  warnings.warn(\n"
     ]
    },
    {
     "data": {
      "text/plain": [
       "(0.32133333333333336, 0.0, [0.32133333333333336])"
      ]
     },
     "execution_count": 28,
     "metadata": {},
     "output_type": "execute_result"
    }
   ],
   "source": [
    "print(\"\\n\\n===== EXPERIMENT 4: Bag of SIFT + SVM (Not use Fast SIFT) =====\")\n",
    "run_cross_validation(\n",
    "    data_path=DATA_PATH, categories=CATEGORIES, num_iterations=1,\n",
    "    feature_type='bag_of_sifts', classifier_type='svm',\n",
    "    vocab_size_for_sift=10,      \n",
    "    sift_step_vocab=10,           \n",
    "    sift_fast_vocab=True,\n",
    "    sift_step_features=5,\n",
    "    sift_fast_features=True,\n",
    "    svm_c_value=7.0,\n",
    "    force_vocab_rebuild=True\n",
    ")"
   ]
  }
 ],
 "metadata": {
  "kernelspec": {
   "display_name": "Python 2",
   "language": "python",
   "name": "python2"
  },
  "language_info": {
   "codemirror_mode": {
    "name": "ipython",
    "version": 2
   },
   "file_extension": ".py",
   "mimetype": "text/x-python",
   "name": "python",
   "nbconvert_exporter": "python",
   "pygments_lexer": "ipython2",
   "version": "2.7.12"
  },
  "widgets": {
   "state": {},
   "version": "1.1.2"
  }
 },
 "nbformat": 4,
 "nbformat_minor": 2
}
